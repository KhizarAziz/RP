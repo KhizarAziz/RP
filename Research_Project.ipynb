{
  "nbformat": 4,
  "nbformat_minor": 0,
  "metadata": {
    "accelerator": "GPU",
    "colab": {
      "name": "Research_Project.ipynb",
      "provenance": [],
      "collapsed_sections": [
        "Unh4OybA10VP",
        "3ciQwuqGifkQ",
        "tCzX0_3-LTUc",
        "dj_0Q0AJvRle",
        "pdpxonaCovzx",
        "Ee59bZINmiJ6",
        "FU3rWn-LBhRo",
        "W79wqmH2Uz7k"
      ],
      "machine_shape": "hm",
      "authorship_tag": "ABX9TyOFhThZfl3a7SJ24VCyebcA",
      "include_colab_link": true
    },
    "kernelspec": {
      "display_name": "Python 3",
      "name": "python3"
    }
  },
  "cells": [
    {
      "cell_type": "markdown",
      "metadata": {
        "id": "view-in-github",
        "colab_type": "text"
      },
      "source": [
        "<a href=\"https://colab.research.google.com/github/KhizarAziz/RP/blob/master/Research_Project.ipynb\" target=\"_parent\"><img src=\"https://colab.research.google.com/assets/colab-badge.svg\" alt=\"Open In Colab\"/></a>"
      ]
    },
    {
      "cell_type": "code",
      "metadata": {
        "id": "_IRlq28RPUJf"
      },
      "source": [
        "%reload_ext autoreload\n",
        "%autoreload 2\n",
        "%matplotlib inline"
      ],
      "execution_count": 1,
      "outputs": []
    },
    {
      "cell_type": "code",
      "metadata": {
        "id": "gLdQBPezxR0h"
      },
      "source": [
        "%%capture\n",
        "!pip install wandb"
      ],
      "execution_count": 2,
      "outputs": []
    },
    {
      "cell_type": "code",
      "metadata": {
        "id": "_reo17cn28yK"
      },
      "source": [
        "import numpy as np\n",
        "import pandas as pd\n",
        "import cv2\n",
        "import matplotlib.pyplot as plt\n",
        "import shutil\n",
        "import os\n",
        "import math\n",
        "import dlib\n",
        "from pathlib import Path\n",
        "import wandb\n",
        "from wandb.keras import WandbCallback\n",
        "wandb.login()\n",
        "#import fastai.vision"
      ],
      "execution_count": null,
      "outputs": []
    },
    {
      "cell_type": "code",
      "metadata": {
        "id": "ooBWthjcla3r",
        "colab": {
          "base_uri": "https://localhost:8080/"
        },
        "outputId": "63c9c116-c156-4007-ba95-d4f28943739e"
      },
      "source": [
        "from google.colab import drive\n",
        "drive.mount('/content/gdrive', force_remount=True)\n",
        "root_dir = \"/content/gdrive/My Drive/\"\n",
        "base_dir = root_dir + '0dev_folder/Data/'\n",
        "colab_base_dir = '/content/'"
      ],
      "execution_count": 1,
      "outputs": [
        {
          "output_type": "stream",
          "text": [
            "Mounted at /content/gdrive\n"
          ],
          "name": "stdout"
        }
      ]
    },
    {
      "cell_type": "code",
      "metadata": {
        "id": "6P-9Fu48F10G"
      },
      "source": [
        "path = '/content/gdrive/MyDrive/Prep-Processed-Datasets/our-preprocessed-new'"
      ],
      "execution_count": 2,
      "outputs": []
    },
    {
      "cell_type": "code",
      "metadata": {
        "colab": {
          "base_uri": "https://localhost:8080/"
        },
        "id": "iwmEZYq2GeNy",
        "outputId": "0513b4e7-85c7-45ac-facb-f7fbc42b17db"
      },
      "source": [
        "cd gdrive/MyDrive/Prep-Processed-Datasets/"
      ],
      "execution_count": 4,
      "outputs": [
        {
          "output_type": "stream",
          "text": [
            "/content/gdrive/MyDrive/Prep-Processed-Datasets\n"
          ],
          "name": "stdout"
        }
      ]
    },
    {
      "cell_type": "code",
      "metadata": {
        "id": "5MeO07eJGPlb"
      },
      "source": [
        "!tar -zcvf our-dataset-new.tar.gz our-preprocessed-new"
      ],
      "execution_count": null,
      "outputs": []
    },
    {
      "cell_type": "code",
      "metadata": {
        "id": "eOf1LpmtHE_g"
      },
      "source": [
        "!zip -r our-dataset-new.zip our-preprocessed-new"
      ],
      "execution_count": null,
      "outputs": []
    },
    {
      "cell_type": "markdown",
      "metadata": {
        "id": "eKYDGlZee9YW"
      },
      "source": [
        "# **C3AE**"
      ]
    },
    {
      "cell_type": "markdown",
      "metadata": {
        "id": "Unh4OybA10VP"
      },
      "source": [
        "\n",
        "\n",
        "> ## **`Github`**\n",
        "\n"
      ]
    },
    {
      "cell_type": "code",
      "metadata": {
        "colab": {
          "base_uri": "https://localhost:8080/"
        },
        "id": "-8u1jqLBeX9_",
        "outputId": "9d394eab-4cb5-47bc-e59a-9f4ffe3a9d56"
      },
      "source": [
        "!git clone https://github.com/KhizarAziz/RP.git"
      ],
      "execution_count": 5,
      "outputs": [
        {
          "output_type": "stream",
          "text": [
            "Cloning into 'RP'...\n",
            "remote: Enumerating objects: 136, done.\u001b[K\n",
            "remote: Counting objects: 100% (111/111), done.\u001b[K\n",
            "remote: Compressing objects: 100% (81/81), done.\u001b[K\n",
            "remote: Total 136 (delta 72), reused 62 (delta 30), pack-reused 25\u001b[K\n",
            "Receiving objects: 100% (136/136), 76.35 MiB | 26.38 MiB/s, done.\n",
            "Resolving deltas: 100% (74/74), done.\n"
          ],
          "name": "stdout"
        }
      ]
    },
    {
      "cell_type": "code",
      "metadata": {
        "colab": {
          "base_uri": "https://localhost:8080/"
        },
        "id": "zl33uuI-aUY4",
        "outputId": "0925f360-7559-48f6-94d8-ff6d3fcb79e8"
      },
      "source": [
        "cd /content/RP"
      ],
      "execution_count": 6,
      "outputs": [
        {
          "output_type": "stream",
          "text": [
            "/content/RP\n"
          ],
          "name": "stdout"
        }
      ]
    },
    {
      "cell_type": "code",
      "metadata": {
        "colab": {
          "base_uri": "https://localhost:8080/"
        },
        "id": "bw0xFwSOfLxt",
        "outputId": "542fac6f-cdc9-4362-f533-9d38acbe1d9a"
      },
      "source": [
        "!git init #init .git file in a folder"
      ],
      "execution_count": 3,
      "outputs": [
        {
          "output_type": "stream",
          "text": [
            "Reinitialized existing Git repository in /content/RP/.git/\n"
          ],
          "name": "stdout"
        }
      ]
    },
    {
      "cell_type": "code",
      "metadata": {
        "id": "DSE0ulVEe0cS"
      },
      "source": [
        "# configure my name and email\n",
        "!git config --global user.email '.@gmail.com'\n",
        "!git config --global user.name ''"
      ],
      "execution_count": 4,
      "outputs": []
    },
    {
      "cell_type": "code",
      "metadata": {
        "id": "aH9USbKMfcJg"
      },
      "source": [
        "# stage all files (changes ) in current dir\n",
        "# !git add -A # commit all\n",
        "# !git add ./m_net_training/C3AE_net.py\n",
        "# !git add ./detect/shape_predictor_68_face_landmarks.dat\n",
        "# !git add ./m_preprocess_dataset/pre_process_WIKI-IMDB.py\n",
        "# !git add ./m_preprocess_dataset/pre_process_Morph.py\n",
        "# !git add ./m_preprocess_dataset/pre_process_FGNET.py\n",
        "# !git add ./detect/mmod_human_face_detector.dat\n",
        "# !git add ./m_net_training/training_utils.py\n",
        "!git add ./requirements.txt"
      ],
      "execution_count": 6,
      "outputs": []
    },
    {
      "cell_type": "code",
      "metadata": {
        "id": "H6PxtPRylIyj",
        "colab": {
          "base_uri": "https://localhost:8080/"
        },
        "outputId": "e61f748b-5544-47d3-903d-439928ae7c85"
      },
      "source": [
        "# check status which files have been updated\n",
        "!git status"
      ],
      "execution_count": 7,
      "outputs": [
        {
          "output_type": "stream",
          "text": [
            "On branch master\n",
            "Your branch is up to date with 'origin/master'.\n",
            "\n",
            "Changes to be committed:\n",
            "  (use \"git reset HEAD <file>...\" to unstage)\n",
            "\n",
            "\t\u001b[32mnew file:   requirements.txt\u001b[m\n",
            "\n"
          ],
          "name": "stdout"
        }
      ]
    },
    {
      "cell_type": "code",
      "metadata": {
        "id": "SLmpIxDMhiKT",
        "colab": {
          "base_uri": "https://localhost:8080/"
        },
        "outputId": "bc38d6d5-43d2-4a52-947b-eef4ee14da92"
      },
      "source": [
        "# commit staged changes\n",
        "!git commit -m 'Added requirements.txt'"
      ],
      "execution_count": 8,
      "outputs": [
        {
          "output_type": "stream",
          "text": [
            "[master b77a922] Added requirements.txt\n",
            " 1 file changed, 379 insertions(+)\n",
            " create mode 100644 requirements.txt\n"
          ],
          "name": "stdout"
        }
      ]
    },
    {
      "cell_type": "code",
      "metadata": {
        "id": "gixl0EX1li2-",
        "colab": {
          "base_uri": "https://localhost:8080/"
        },
        "outputId": "3dd4693e-ae34-4d00-f73f-b2192fe15903"
      },
      "source": [
        "#display which remote branch is being used (empty in start)\n",
        "!git remote"
      ],
      "execution_count": 9,
      "outputs": [
        {
          "output_type": "stream",
          "text": [
            "origin\n"
          ],
          "name": "stdout"
        }
      ]
    },
    {
      "cell_type": "code",
      "metadata": {
        "id": "1fFHp5lKmvd9"
      },
      "source": [
        "# setting up a remote branch with login credentials\n",
        "!git remote add MyOrigin https://@github.com/KhizarAziz/RP.git"
      ],
      "execution_count": 10,
      "outputs": []
    },
    {
      "cell_type": "code",
      "metadata": {
        "id": "_hv29O_4hzK2",
        "colab": {
          "base_uri": "https://localhost:8080/"
        },
        "outputId": "02007deb-462e-4c1b-9e91-c86e546e0ae8"
      },
      "source": [
        "# push to origin\n",
        "!git push MyOrigin master"
      ],
      "execution_count": 11,
      "outputs": [
        {
          "output_type": "stream",
          "text": [
            "Counting objects: 3, done.\n",
            "Delta compression using up to 4 threads.\n",
            "Compressing objects:  33% (1/3)   \rCompressing objects:  66% (2/3)   \rCompressing objects: 100% (3/3)   \rCompressing objects: 100% (3/3), done.\n",
            "Writing objects:  33% (1/3)   \rWriting objects:  66% (2/3)   \rWriting objects: 100% (3/3)   \rWriting objects: 100% (3/3), 3.33 KiB | 3.33 MiB/s, done.\n",
            "Total 3 (delta 1), reused 0 (delta 0)\n",
            "remote: Resolving deltas:   0% (0/1)\u001b[K\rremote: Resolving deltas: 100% (1/1)\u001b[K\rremote: Resolving deltas: 100% (1/1), completed with 1 local object.\u001b[K\n",
            "To https://github.com/KhizarAziz/RP.git\n",
            "   c933b0b..b77a922  master -> master\n"
          ],
          "name": "stdout"
        }
      ]
    },
    {
      "cell_type": "markdown",
      "metadata": {
        "id": "3ciQwuqGifkQ"
      },
      "source": [
        "\n",
        "\n",
        "> ## **`Download Datasets and Code`**\n",
        "\n"
      ]
    },
    {
      "cell_type": "code",
      "metadata": {
        "id": "8YYV7Kpi-OR3"
      },
      "source": [
        "# OWN Dataset\n",
        "# pth = Path('/content/gdrive/My Drive/Final_Dataset')\n",
        "# csv_path = '/content/gdrive/MyDrive/Final_Dataset/dataset-meta.csv'\n",
        "# i = 0\n",
        "# for filename in pth.glob('*.tar.gz'):\n",
        "#   # if i > 2:\n",
        "#   new_path = shutil.copy(filename,'/content/')\n",
        "#   print('copied file ',new_path)\n",
        "#   shutil.unpack_archive(new_path,'/content/RP/dataset/Dataset/')\n",
        "#   print('unpacked ')\n",
        "#   break\n",
        "#   # i += 1\n",
        "#shutil.copy(csv_path,'/content/RP/dataset/Dataset/dataset-meta.csv')"
      ],
      "execution_count": null,
      "outputs": []
    },
    {
      "cell_type": "code",
      "metadata": {
        "colab": {
          "base_uri": "https://localhost:8080/"
        },
        "id": "2GSs3j6hIOyM",
        "outputId": "0bf1a996-4007-419e-bded-356b0b2c19f7"
      },
      "source": [
        "import shutil\n",
        "#WIKI\n",
        "# shutil.copy('/content/gdrive/My Drive/0dev_folder/Previous Datasets/wiki_crop.tar', '/content/')\n",
        "# IMDB\n",
        "# shutil.copy('/content/gdrive/My Drive/0dev_folder/Previous Datasets/imdb_crop.tar', '/content/')\n",
        "# MORPH\n",
        "# shutil.copy('/content/gdrive/My Drive/0dev_folder/Previous Datasets/Morph.tar', '/content/')\n",
        "# FGNET\n",
        "shutil.copy('/content/gdrive/MyDrive/0dev_folder/Previous Datasets/FGNET.zip', '/content/')"
      ],
      "execution_count": null,
      "outputs": [
        {
          "output_type": "execute_result",
          "data": {
            "application/vnd.google.colaboratory.intrinsic+json": {
              "type": "string"
            },
            "text/plain": [
              "'/content/FGNET.zip'"
            ]
          },
          "metadata": {
            "tags": []
          },
          "execution_count": 6
        }
      ]
    },
    {
      "cell_type": "code",
      "metadata": {
        "colab": {
          "base_uri": "https://localhost:8080/"
        },
        "id": "QQ9oJNe4KBek",
        "outputId": "ff62c010-159f-46d1-dca6-a20fa7b6c82c"
      },
      "source": [
        "cd /content/"
      ],
      "execution_count": null,
      "outputs": [
        {
          "output_type": "stream",
          "text": [
            "/content\n"
          ],
          "name": "stdout"
        }
      ]
    },
    {
      "cell_type": "code",
      "metadata": {
        "id": "V57knmyIvI-Q"
      },
      "source": [
        "#extract datasets\n",
        "# !tar -xvf imdb_crop.tar -C /content/RP/dataset\n",
        "# !tar -xvf wiki_crop.tar -C /content/RP/dataset\n",
        "# morph data\n",
        "# !tar -xvf Morph.tar -C /content/RP/dataset\n",
        "# FGNET data\n",
        "!unzip -q FGNET.zip -d /content/RP/dataset/ # unzip zip file"
      ],
      "execution_count": null,
      "outputs": []
    },
    {
      "cell_type": "code",
      "metadata": {
        "id": "pj_gpHlALmka"
      },
      "source": [
        "#download face landmark predictor\n",
        "# !wget http://dlib.net/files/shape_predictor_68_face_landmarks.dat.bz2\n",
        "# !wget https://github.com/davisking/dlib-models/raw/master/shape_predictor_5_face_landmarks.dat.bz2\n",
        "# !bzip2 -d /content/shape_predictor_68_face_landmarks.dat.bz2"
      ],
      "execution_count": null,
      "outputs": []
    },
    {
      "cell_type": "code",
      "metadata": {
        "id": "MRCLZ6NrlE8g"
      },
      "source": [
        "#download imdb\n",
        "# !wget https://data.vision.ee.ethz.ch/cvl/rrothe/imdb-wiki/static/imdb_crop.tar\n",
        "#download WIKI\n",
        "# !wget https://data.vision.ee.ethz.ch/cvl/rrothe/imdb-wiki/static/wiki_crop.tar"
      ],
      "execution_count": null,
      "outputs": []
    },
    {
      "cell_type": "markdown",
      "metadata": {
        "id": "tCzX0_3-LTUc"
      },
      "source": [
        "\n",
        "\n",
        "> ## **`Preprocess Datasets`**\n",
        "\n"
      ]
    },
    {
      "cell_type": "code",
      "metadata": {
        "colab": {
          "base_uri": "https://localhost:8080/"
        },
        "id": "UV8SazL4Iitv",
        "outputId": "f78c9659-b777-4296-ab68-4ef976a282e6"
      },
      "source": [
        "cd /content/RP/"
      ],
      "execution_count": null,
      "outputs": [
        {
          "output_type": "stream",
          "text": [
            "/content/RP\n"
          ],
          "name": "stdout"
        }
      ]
    },
    {
      "cell_type": "code",
      "metadata": {
        "id": "8nTHmnm6Nki5"
      },
      "source": [
        "# Mine Dataset\n",
        "# !python /content/RP/m_preprocess_dataset/pre_process_dataset.py\n",
        "#Wiki-IDMB\n",
        "# !python /content/RP/m_preprocess_dataset/pre_process_WIKI-IMDB.py\n",
        "#Morph\n",
        "#!python /content/RP/m_preprocess_dataset/pre_process_Morph.py\n",
        "#FGNET\n",
        "# !python /content/RP/m_preprocess_dataset/pre_process_FGNET.py"
      ],
      "execution_count": null,
      "outputs": []
    },
    {
      "cell_type": "code",
      "metadata": {
        "id": "KguRixKQ9Ui1"
      },
      "source": [
        "p = Path('/content')\n",
        "for f in p.glob('*.jpg'):\n",
        "  os.remove(f)"
      ],
      "execution_count": null,
      "outputs": []
    },
    {
      "cell_type": "markdown",
      "metadata": {
        "id": "tCIDazkhgL0x"
      },
      "source": [
        "\n",
        "\n",
        "> ## **`Train`**\n",
        "\n"
      ]
    },
    {
      "cell_type": "code",
      "metadata": {
        "colab": {
          "base_uri": "https://localhost:8080/"
        },
        "id": "ftYi5Ek_7w5f",
        "outputId": "4296e3e3-cc36-426c-eff4-6cf9955d8978"
      },
      "source": [
        "!git clone https://github.com/KhizarAziz/RP.git #clone repo"
      ],
      "execution_count": 5,
      "outputs": [
        {
          "output_type": "stream",
          "text": [
            "Cloning into 'RP'...\n",
            "remote: Enumerating objects: 133, done.\u001b[K\n",
            "remote: Counting objects: 100% (108/108), done.\u001b[K\n",
            "remote: Compressing objects: 100% (78/78), done.\u001b[K\n",
            "remote: Total 133 (delta 71), reused 60 (delta 30), pack-reused 25\u001b[K\n",
            "Receiving objects: 100% (133/133), 76.35 MiB | 31.04 MiB/s, done.\n",
            "Resolving deltas: 100% (73/73), done.\n"
          ],
          "name": "stdout"
        }
      ]
    },
    {
      "cell_type": "code",
      "metadata": {
        "colab": {
          "base_uri": "https://localhost:8080/"
        },
        "id": "4uH0kCE6YCcQ",
        "outputId": "e6e2db53-51f8-4166-a6b3-bfa5f2ce0186"
      },
      "source": [
        "cd /content/RP"
      ],
      "execution_count": 7,
      "outputs": [
        {
          "output_type": "stream",
          "text": [
            "/content/RP\n"
          ],
          "name": "stdout"
        }
      ]
    },
    {
      "cell_type": "code",
      "metadata": {
        "id": "g56nhDyAKhSN"
      },
      "source": [
        "import math\n",
        "from m_net_training import C3AE_net\n",
        "from m_net_training import training_utils\n",
        "#from m_net_training.training_utils import CyclicLR\n",
        "import feather\n",
        "from sklearn.model_selection import train_test_split\n",
        "from keras.optimizers import Adam\n",
        "from keras.callbacks import ModelCheckpoint,TensorBoard,ReduceLROnPlateau\n",
        "from keras.losses import kl_divergence,MAE\n",
        "from keras.metrics import mae,Accuracy\n",
        "import tensorflow as tf"
      ],
      "execution_count": 8,
      "outputs": []
    },
    {
      "cell_type": "code",
      "metadata": {
        "id": "XKwHNiopvjKu",
        "colab": {
          "base_uri": "https://localhost:8080/",
          "height": 136
        },
        "outputId": "f14ba277-fcfc-4192-cbe8-feafe1c9bca4"
      },
      "source": [
        "# initialize wandb with your project name and optionally with configutations.\n",
        "category = 12\n",
        "interval = 10\n",
        "run = wandb.init(project='rp',\n",
        "           config={\n",
        "              \"Age_Loss\": 'mean_absolute_error',\n",
        "              \"CLR_METHOD\": 'triangular',\n",
        "              \"MAX_LR\": 0.005,\n",
        "              \"MIN_LR\": 1.000e-7,\n",
        "              \"NUM_EPOCHS\": 25,\n",
        "              \"STEP_SIZE\": 5,\n",
        "              \"W1_Loss\": 'kl_divergence',\n",
        "              'architecture':'architecture??',\n",
        "              'batch_size':64,\n",
        "              'dataset':'our-preprocessed-new',\n",
        "              'dropout':0.2,\n",
        "              'crop_margin':-10,\n",
        "              'pose_aware_cropper':True,\n",
        "              'img_ch':3,\n",
        "              'img_h':64,\n",
        "              'img_w':64,\n",
        "              'random_enforcing':False,\n",
        "              'random_erasing':False,\n",
        "              'seed':2021,\n",
        "              'test_split':0.2,\n",
        "              'train_split':0.8,\n",
        "              'use_SE_block':True,\n",
        "              'use_white_norm':True\n",
        "           })\n",
        "config = wandb.config"
      ],
      "execution_count": 9,
      "outputs": [
        {
          "output_type": "stream",
          "text": [
            "\u001b[34m\u001b[1mwandb\u001b[0m: Currently logged in as: \u001b[33mkhizerawan\u001b[0m (use `wandb login --relogin` to force relogin)\n"
          ],
          "name": "stderr"
        },
        {
          "output_type": "display_data",
          "data": {
            "text/html": [
              "\n",
              "                Tracking run with wandb version 0.10.28<br/>\n",
              "                Syncing run <strong style=\"color:#cdcd00\">laced-wood-232</strong> to <a href=\"https://wandb.ai\" target=\"_blank\">Weights & Biases</a> <a href=\"https://docs.wandb.com/integrations/jupyter.html\" target=\"_blank\">(Documentation)</a>.<br/>\n",
              "                Project page: <a href=\"https://wandb.ai/khizerawan/rp\" target=\"_blank\">https://wandb.ai/khizerawan/rp</a><br/>\n",
              "                Run page: <a href=\"https://wandb.ai/khizerawan/rp/runs/5n1o1mxz\" target=\"_blank\">https://wandb.ai/khizerawan/rp/runs/5n1o1mxz</a><br/>\n",
              "                Run data is saved locally in <code>/content/RP/wandb/run-20210501_152509-5n1o1mxz</code><br/><br/>\n",
              "            "
            ],
            "text/plain": [
              "<IPython.core.display.HTML object>"
            ]
          },
          "metadata": {
            "tags": []
          }
        }
      ]
    },
    {
      "cell_type": "code",
      "metadata": {
        "id": "56dzAkRZu5xT",
        "colab": {
          "base_uri": "https://localhost:8080/"
        },
        "outputId": "8e60ecd9-905d-40db-f1a2-cd2c95cb1d4a"
      },
      "source": [
        "#Loading dataset (from .feather file)\n",
        "dataset_dir = Path(f'/content/gdrive/MyDrive/Prep-Processed-Datasets/{config.dataset}/')\n",
        "dataset_df = pd.DataFrame(columns=[\"image_path\",\"age\",\"PredictedAge\", \"gender\", \"image\", \"org_box\", \"landmarks\"])\n",
        "for fnames in dataset_dir.glob('*.feather'):\n",
        "  #ashutil.copy(fnames,'/content/gdrive/MyDrive/Prep-Processed-Datasets/own-data-preprocessed/')\n",
        "  df_chunk = feather.read_dataframe(dataset_dir.joinpath(fnames))\n",
        "  dataset_df = pd.concat([dataset_df,df_chunk],ignore_index=True)\n",
        "dataset_df = dataset_df[['image_path','age',\"PredictedAge\",'gender','image','org_box','landmarks']]\n",
        "dataset_df = dataset_df.astype({'age': 'float64'})\n",
        "# removing age outliers\n",
        "dataset_df['AgeDifference'] = abs(dataset_df['PredictedAge'] - dataset_df['age'])\n",
        "# dataset_df.hist()\n",
        "dataset_df.shape"
      ],
      "execution_count": 10,
      "outputs": [
        {
          "output_type": "execute_result",
          "data": {
            "text/plain": [
              "(1574368, 8)"
            ]
          },
          "metadata": {
            "tags": []
          },
          "execution_count": 10
        }
      ]
    },
    {
      "cell_type": "code",
      "metadata": {
        "id": "s7eLkpi9nvaI"
      },
      "source": [
        "df = dataset_df[dataset_df.age < 15]"
      ],
      "execution_count": 57,
      "outputs": []
    },
    {
      "cell_type": "code",
      "metadata": {
        "colab": {
          "base_uri": "https://localhost:8080/",
          "height": 303
        },
        "id": "Mh8kxsWjmdIS",
        "outputId": "35c70075-ecd6-41be-f8d8-86a1385ee799"
      },
      "source": [
        "index += 1\n",
        "row = df.iloc[index]\n",
        "img = np.frombuffer(row[\"image\"], np.uint8)\n",
        "img = cv2.imdecode(img, cv2.IMREAD_COLOR)\n",
        "print(row['age'],row['PredictedAge'])\n",
        "plt.imshow(img)"
      ],
      "execution_count": 72,
      "outputs": [
        {
          "output_type": "stream",
          "text": [
            "1.0 21.367904663085934\n"
          ],
          "name": "stdout"
        },
        {
          "output_type": "execute_result",
          "data": {
            "text/plain": [
              "<matplotlib.image.AxesImage at 0x7f112d7dc5d0>"
            ]
          },
          "metadata": {
            "tags": []
          },
          "execution_count": 72
        },
        {
          "output_type": "display_data",
          "data": {
            "image/png": "[encoded data removed]",
            "text/plain": [
              "<Figure size 432x288 with 1 Axes>"
            ]
          },
          "metadata": {
            "tags": [],
            "needs_background": "light"
          }
        }
      ]
    },
    {
      "cell_type": "code",
      "metadata": {
        "id": "ACORRu-_or1i"
      },
      "source": [
        "dataset_df.hist()"
      ],
      "execution_count": null,
      "outputs": []
    },
    {
      "cell_type": "code",
      "metadata": {
        "id": "r3KKDDgr_t1Q"
      },
      "source": [
        "dataset_df.groupby('gender').hist()"
      ],
      "execution_count": null,
      "outputs": []
    },
    {
      "cell_type": "code",
      "metadata": {
        "id": "j71HUXvy3hb2"
      },
      "source": [
        "#validation split using sklearn.model_selection's train_test_split method\n",
        "trainset, testset = train_test_split(dataset_df, train_size=config.train_split, test_size=config.test_split, random_state=config.seed)\n",
        "# dataset_df = pd.DataFrame()"
      ],
      "execution_count": 10,
      "outputs": []
    },
    {
      "cell_type": "code",
      "metadata": {
        "id": "j6CawtVR3swp"
      },
      "source": [
        "import imp\n",
        "imp.reload(training_utils)\n",
        "#making a generator for image and dataset. inside generator we \n",
        "#load img, crop faces (3 sizes -> big,middle,small) then tranform (if aumentation is true) rotate,birhgt etc ect\n",
        "#convert age into 2 point represenation (like on hot encoding, but has fractions)\n",
        "input_shape = (config.img_h,config.img_w)\n",
        "# crop_margin = -20\n",
        "train_gen =     training_utils.img_and_age_data_generator(trainset,batch_size=config.batch_size,category=category,interval=interval,imgs_shape=input_shape,random_erasing=config.random_erasing,random_enforcing=config.random_enforcing,dropout=config.dropout,pose_aware_cropper=config.pose_aware_cropper,gap_margin=config.crop_margin)\n",
        "validation_gen = training_utils.img_and_age_data_generator(testset,batch_size=config.batch_size,category=category,interval=interval,imgs_shape=input_shape,random_erasing=False,random_enforcing=False,dropout=0.0,pose_aware_cropper=config.pose_aware_cropper,gap_margin=config.crop_margin)\n",
        "# print(trainset.groupby([\"age\"])[\"age\"].agg(\"count\"))"
      ],
      "execution_count": 11,
      "outputs": []
    },
    {
      "cell_type": "code",
      "metadata": {
        "colab": {
          "base_uri": "https://localhost:8080/"
        },
        "id": "S0mFDC5kK4i8",
        "outputId": "899f71b3-7d78-4773-f989-a808ff0adf04"
      },
      "source": [
        "index = 1\n",
        "first_batch = next(iter(train_gen))\n",
        "print(type(first_batch[1][0]),type(first_batch[1][1]))  # 2nd item -> 2nd item -> 1st item :::: (because i know this hierarchy)"
      ],
      "execution_count": 12,
      "outputs": [
        {
          "output_type": "stream",
          "text": [
            "<class 'numpy.ndarray'> <class 'numpy.ndarray'>\n"
          ],
          "name": "stdout"
        }
      ]
    },
    {
      "cell_type": "code",
      "metadata": {
        "colab": {
          "base_uri": "https://localhost:8080/",
          "height": 232
        },
        "id": "BJiYgCuepDYK",
        "outputId": "61191247-592b-41c8-be00-c999e8392e39"
      },
      "source": [
        "# train on old datset, and see if accruacy is same\n",
        "index += 1\n",
        "Accepted_List = [first_batch[0][0][index],first_batch[0][1][index],first_batch[0][2][index]] # list of [image_path,age]\n",
        "print(first_batch[1][0][index])\n",
        "f,axarr = plt.subplots(nrows=1,ncols=3,figsize=(10,10))\n",
        "for i in range(3):\n",
        "    img = Accepted_List[i]\n",
        "    # axarr[i].set_title(str(Accepted_List[i].shape),fontsize = 20)\n",
        "    axarr[i].imshow(img)\n",
        "#f.savefig('/content/test.jpg')"
      ],
      "execution_count": 13,
      "outputs": [
        {
          "output_type": "stream",
          "text": [
            "30.0\n"
          ],
          "name": "stdout"
        },
        {
          "output_type": "display_data",
          "data": {
            "image/png": "[encoded data removed]",
            "text/plain": [
              "<Figure size 720x720 with 3 Axes>"
            ]
          },
          "metadata": {
            "tags": [],
            "needs_background": "light"
          }
        }
      ]
    },
    {
      "cell_type": "code",
      "metadata": {
        "id": "XdsEkqRAodzs",
        "colab": {
          "base_uri": "https://localhost:8080/"
        },
        "outputId": "a0ec3a42-332d-4026-cbbd-775a9d5303b8"
      },
      "source": [
        "# get distribution of ages i.e how many number of rows for each interval i.e lets say for 0-10 years age we have 5000 entries(rows)\n",
        "age_distribution = [trainset[\"age\"][(trainset.age >= x -10) & (trainset.age <= x)].count() for x in range(10, 101, 10)]\n",
        "age_distribution = [age_distribution[0]] + age_distribution + [age_distribution[-1]]\n",
        "print(age_distribution)"
      ],
      "execution_count": 15,
      "outputs": [
        {
          "output_type": "stream",
          "text": [
            "[646, 646, 32382, 190434, 378880, 342720, 187411, 100833, 44909, 8667, 226, 226]\n"
          ],
          "name": "stdout"
        }
      ]
    },
    {
      "cell_type": "code",
      "metadata": {
        "id": "qAKG2yUldaK5"
      },
      "source": [
        "# !wget https://api.wandb.ai/files/khizerawan/rp/315y4bqn/model-best.h5"
      ],
      "execution_count": null,
      "outputs": []
    },
    {
      "cell_type": "code",
      "metadata": {
        "id": "kiFlD6g57y8S",
        "colab": {
          "base_uri": "https://localhost:8080/"
        },
        "outputId": "a90fdcf8-604d-467b-f732-3ee008717d21"
      },
      "source": [
        "# clear some memory\n",
        "import gc\n",
        "trainset_size = len(trainset)\n",
        "testset_size = len(testset)\n",
        "del dataset_df\n",
        "del trainset\n",
        "del testset\n",
        "gc.collect()"
      ],
      "execution_count": 16,
      "outputs": [
        {
          "output_type": "execute_result",
          "data": {
            "text/plain": [
              "228"
            ]
          },
          "metadata": {
            "tags": []
          },
          "execution_count": 16
        }
      ]
    },
    {
      "cell_type": "code",
      "metadata": {
        "id": "mxrdUhbqq7kj"
      },
      "source": [
        "import imp\n",
        "imp.reload(C3AE_net)\n",
        "# pretrain_weights_path = \"/content/RP/model-best.h5\"\n",
        "#Initialize model like you usually do\n",
        "tf.keras.backend.clear_session()\n",
        "model = C3AE_net.build_model(Categories = 12, using_SE=True, using_white_norm=True)\n",
        "#if pretrain_weights_path and os.path.exists(pretrain_weights_path):\n",
        "#building C3AE network for training\n",
        "# model.load_weights(pretrain_weights_path)\n",
        "#pretrain_weights_path\n",
        "#models = load_model(params.pretrain_path, custom_objects={\"pool2d\": pool2d, \"ReLU\": ReLU, \"BatchNormalization\": BatchNormalization, \"tf\": tf, \"focal_loss_fixed\": focal_loss(age_dist)})\n",
        "#model.summary()"
      ],
      "execution_count": 17,
      "outputs": []
    },
    {
      "cell_type": "code",
      "metadata": {
        "id": "SFpE6pGhEbCo"
      },
      "source": [
        "model.summary()"
      ],
      "execution_count": null,
      "outputs": []
    },
    {
      "cell_type": "code",
      "metadata": {
        "id": "roIU-pk0S2QJ"
      },
      "source": [
        "model.get_layer(\"SRAE\").summary()"
      ],
      "execution_count": null,
      "outputs": []
    },
    {
      "cell_type": "markdown",
      "metadata": {
        "id": "dj_0Q0AJvRle"
      },
      "source": [
        "### **`Compile_model`**"
      ]
    },
    {
      "cell_type": "code",
      "metadata": {
        "id": "Y6_b6GXXaCyO"
      },
      "source": [
        "adam = Adam(lr=config.MIN_LR)\n",
        "#cate_weight = K.variable(params.weight_factor)\n",
        "weight_factor = 10\n",
        "model.compile(\n",
        "    optimizer=adam,\n",
        "    #loss=[\"mae\", training_utils.focal_loss(age_distribution)],  # \"kullback_leibler_divergence\"\n",
        "    loss = {'W1':config.W1_Loss,'age':config.Age_Loss},\n",
        "    #metrics={\"age\": \"mae\", \"W1\": \"mae\", \"gender\": \"acc\"},\n",
        "    metrics={\"age\": mae,\"W1\":'accuracy'},\n",
        "    loss_weights={'W1':weight_factor, 'age': 1}\n",
        "    #loss_weights=[1, params.weight_factor, 5]\n",
        ")\n",
        "# W2 = model.get_layer(\"age\")"
      ],
      "execution_count": 18,
      "outputs": []
    },
    {
      "cell_type": "code",
      "metadata": {
        "id": "tmdWv3XIXt4j"
      },
      "source": [
        "class meriApniCustom_lr_history(tf.keras.callbacks.Callback):\n",
        "  def on_epoch_begin(self,epoch, logs={}):\n",
        "      lr = float(tf.keras.backend.get_value(self.model.optimizer.learning_rate))\n",
        "      print('our lr is: {} '.format(lr))\n",
        "  def on_epoch_end(self, epoch, logs=None):\n",
        "      gc.collect() # explicitly free memory after each epoch\n",
        "\n",
        "#thres_callback = ThresCallback(cate_weight, models.get_layer(\"age_mean_absolute_error\"), 10, 10)\n",
        "# def get_weights(epoch, loggs):\n",
        "#     print('get_weights ',epoch, tf.keras.backend.get_value(models.optimizer.lr), W2.get_weights())"
      ],
      "execution_count": 19,
      "outputs": []
    },
    {
      "cell_type": "code",
      "metadata": {
        "id": "z8o0_6DCFILB"
      },
      "source": [
        "save_path = '/content/RP/m_models_saved/morph-'\n",
        "callbacks = [\n",
        "  ModelCheckpoint(save_path+'weights.{epoch:02d}-{val_age_mean_absolute_error:.2f}.hdf5',\n",
        "                  monitor='val_age_mean_absolute_error',\n",
        "                  verbose = 1,\n",
        "                  save_best_only=True,\n",
        "                  model ='min'),\n",
        " \n",
        "   training_utils.CyclicLR(\n",
        "                    mode=config.CLR_METHOD,\n",
        "                    base_lr=config.MIN_LR,\n",
        "                    max_lr=config.MAX_LR,\n",
        "                    step_size=config.STEP_SIZE * (trainset_size // config.batch_size)),\n",
        "               \n",
        "  # ReduceLROnPlateau(monitor='val_age_mean_absolute_error', #considered metric\n",
        "  #                   factor = 0.5, # learning_rate * factor (multiply lr 0.6 to reduce it)\n",
        "  #                   patience = 3,# agr considered metric, plateau for patience epochs\n",
        "  #                   min_delta = 0.01, # if model didnt improve this much\n",
        "  #                   cooldown = 2, # wait this much more epochs before things back normal\n",
        "  #                   min_lr = 0.0001,\n",
        "  #                   mode = 'min'),\n",
        "  meriApniCustom_lr_history(),\n",
        " \n",
        "  WandbCallback(monitor='val_age_loss')\n",
        "]"
      ],
      "execution_count": 21,
      "outputs": []
    },
    {
      "cell_type": "markdown",
      "metadata": {
        "id": "pdpxonaCovzx"
      },
      "source": [
        "### **`Find_lr`**"
      ]
    },
    {
      "cell_type": "code",
      "metadata": {
        "id": "YkbDgjECLubM"
      },
      "source": [
        "# lrf = training_utils.LearningRateFinder(model)"
      ],
      "execution_count": null,
      "outputs": []
    },
    {
      "cell_type": "code",
      "metadata": {
        "colab": {
          "base_uri": "https://localhost:8080/",
          "height": 223
        },
        "id": "fBHNfwuhV7lE",
        "outputId": "daebc145-b90b-421c-f696-6402add68652"
      },
      "source": [
        "lrf.find(\n",
        "  train_gen,#aug.flow(trainX, trainY, batch_size=config.BATCH_SIZE),\n",
        "  1e-6, 1e+1,\n",
        "  stepsPerEpoch=len(trainset) / config.batch_size,\n",
        "  batchSize=config.batch_size)"
      ],
      "execution_count": null,
      "outputs": [
        {
          "output_type": "error",
          "ename": "NameError",
          "evalue": "ignored",
          "traceback": [
            "\u001b[0;31m---------------------------------------------------------------------------\u001b[0m",
            "\u001b[0;31mNameError\u001b[0m                                 Traceback (most recent call last)",
            "\u001b[0;32m<ipython-input-66-c3ea567cf1a2>\u001b[0m in \u001b[0;36m<module>\u001b[0;34m()\u001b[0m\n\u001b[0;32m----> 1\u001b[0;31m lrf.find(\n\u001b[0m\u001b[1;32m      2\u001b[0m   \u001b[0mtrain_gen\u001b[0m\u001b[0;34m,\u001b[0m\u001b[0;31m#aug.flow(trainX, trainY, batch_size=config.BATCH_SIZE),\u001b[0m\u001b[0;34m\u001b[0m\u001b[0;34m\u001b[0m\u001b[0m\n\u001b[1;32m      3\u001b[0m   \u001b[0;36m1e-6\u001b[0m\u001b[0;34m,\u001b[0m \u001b[0;36m1e+1\u001b[0m\u001b[0;34m,\u001b[0m\u001b[0;34m\u001b[0m\u001b[0;34m\u001b[0m\u001b[0m\n\u001b[1;32m      4\u001b[0m   \u001b[0mstepsPerEpoch\u001b[0m\u001b[0;34m=\u001b[0m\u001b[0mlen\u001b[0m\u001b[0;34m(\u001b[0m\u001b[0mtrainset\u001b[0m\u001b[0;34m)\u001b[0m \u001b[0;34m/\u001b[0m \u001b[0mconfig\u001b[0m\u001b[0;34m.\u001b[0m\u001b[0mbatch_size\u001b[0m\u001b[0;34m,\u001b[0m\u001b[0;34m\u001b[0m\u001b[0;34m\u001b[0m\u001b[0m\n\u001b[1;32m      5\u001b[0m   batchSize=config.batch_size)\n",
            "\u001b[0;31mNameError\u001b[0m: name 'lrf' is not defined"
          ]
        }
      ]
    },
    {
      "cell_type": "code",
      "metadata": {
        "id": "5H_9F0__gbpx"
      },
      "source": [
        "lrf.plot_loss()"
      ],
      "execution_count": null,
      "outputs": []
    },
    {
      "cell_type": "markdown",
      "metadata": {
        "id": "Brd8YqZDvcCH"
      },
      "source": [
        "### **`Fit`**"
      ]
    },
    {
      "cell_type": "code",
      "metadata": {
        "id": "8qqE8sbYAC66",
        "colab": {
          "base_uri": "https://localhost:8080/",
          "height": 837
        },
        "outputId": "7a42c9ac-235d-45c9-a684-d1d8ff76a04f"
      },
      "source": [
        "model.fit(train_gen, steps_per_epoch=trainset_size / config.batch_size, epochs=config.NUM_EPOCHS, callbacks=callbacks, validation_data=validation_gen, validation_steps=testset_size / config.batch_size)"
      ],
      "execution_count": 22,
      "outputs": [
        {
          "output_type": "stream",
          "text": [
            "Epoch 1/25\n",
            "our lr is: 1.0000000116860974e-07 \n",
            "18306/18306 [==============================] - 4837s 262ms/step - loss: 51.8451 - age_loss: 40.8707 - W1_loss: 1.0974 - age_mean_absolute_error: 40.8707 - W1_accuracy: 0.3710 - val_loss: 30.7437 - val_age_loss: 24.8027 - val_W1_loss: 0.5941 - val_age_mean_absolute_error: 24.8027 - val_W1_accuracy: 0.5554\n",
            "\n",
            "Epoch 00001: val_age_mean_absolute_error improved from inf to 24.80270, saving model to /content/RP/m_models_saved/morph-weights.01-24.80.hdf5\n",
            "Epoch 2/25\n",
            "our lr is: 0.0010001346236094832 \n",
            "18306/18306 [==============================] - 4789s 262ms/step - loss: 23.2196 - age_loss: 17.0557 - W1_loss: 0.6164 - age_mean_absolute_error: 17.0557 - W1_accuracy: 0.5422 - val_loss: 10.7768 - val_age_loss: 5.0278 - val_W1_loss: 0.5749 - val_age_mean_absolute_error: 5.0278 - val_W1_accuracy: 0.5744\n",
            "\n",
            "Epoch 00002: val_age_mean_absolute_error improved from 24.80270 to 5.02779, saving model to /content/RP/m_models_saved/morph-weights.02-5.03.hdf5\n",
            "Epoch 3/25\n",
            "our lr is: 0.002000169362872839 \n",
            "18306/18306 [==============================] - 4794s 262ms/step - loss: 10.4273 - age_loss: 4.7501 - W1_loss: 0.5677 - age_mean_absolute_error: 4.7501 - W1_accuracy: 0.5688 - val_loss: 9.8321 - val_age_loss: 4.3878 - val_W1_loss: 0.5444 - val_age_mean_absolute_error: 4.3878 - val_W1_accuracy: 0.5859\n",
            "\n",
            "Epoch 00003: val_age_mean_absolute_error improved from 5.02779 to 4.38782, saving model to /content/RP/m_models_saved/morph-weights.03-4.39.hdf5\n",
            "Epoch 4/25\n",
            "our lr is: 0.003000203985720873 \n",
            "18306/18306 [==============================] - 4772s 261ms/step - loss: 9.8213 - age_loss: 4.3728 - W1_loss: 0.5449 - age_mean_absolute_error: 4.3728 - W1_accuracy: 0.5803 - val_loss: 9.3317 - val_age_loss: 4.1695 - val_W1_loss: 0.5162 - val_age_mean_absolute_error: 4.1695 - val_W1_accuracy: 0.5941\n",
            "\n",
            "Epoch 00004: val_age_mean_absolute_error improved from 4.38782 to 4.16946, saving model to /content/RP/m_models_saved/morph-weights.04-4.17.hdf5\n",
            "Epoch 5/25\n",
            "our lr is: 0.004000238608568907 \n",
            "18306/18306 [==============================] - 4776s 261ms/step - loss: 9.6715 - age_loss: 4.3072 - W1_loss: 0.5364 - age_mean_absolute_error: 4.3072 - W1_accuracy: 0.5864 - val_loss: 9.5210 - val_age_loss: 4.2426 - val_W1_loss: 0.5278 - val_age_mean_absolute_error: 4.2426 - val_W1_accuracy: 0.5967\n",
            "\n",
            "Epoch 00005: val_age_mean_absolute_error did not improve from 4.16946\n",
            "Epoch 6/25\n",
            "our lr is: 0.004999727010726929 \n",
            " 8395/18306 [============>.................] - ETA: 34:13 - loss: 9.5871 - age_loss: 4.2680 - W1_loss: 0.5319 - age_mean_absolute_error: 4.2680 - W1_accuracy: 0.5881"
          ],
          "name": "stdout"
        },
        {
          "output_type": "error",
          "ename": "KeyboardInterrupt",
          "evalue": "ignored",
          "traceback": [
            "\u001b[0;31m---------------------------------------------------------------------------\u001b[0m",
            "\u001b[0;31mKeyboardInterrupt\u001b[0m                         Traceback (most recent call last)",
            "\u001b[0;32m<ipython-input-22-9414cdb17534>\u001b[0m in \u001b[0;36m<module>\u001b[0;34m()\u001b[0m\n\u001b[0;32m----> 1\u001b[0;31m \u001b[0mmodel\u001b[0m\u001b[0;34m.\u001b[0m\u001b[0mfit\u001b[0m\u001b[0;34m(\u001b[0m\u001b[0mtrain_gen\u001b[0m\u001b[0;34m,\u001b[0m \u001b[0msteps_per_epoch\u001b[0m\u001b[0;34m=\u001b[0m\u001b[0;36m1171600\u001b[0m \u001b[0;34m/\u001b[0m \u001b[0mconfig\u001b[0m\u001b[0;34m.\u001b[0m\u001b[0mbatch_size\u001b[0m\u001b[0;34m,\u001b[0m \u001b[0mepochs\u001b[0m\u001b[0;34m=\u001b[0m\u001b[0mconfig\u001b[0m\u001b[0;34m.\u001b[0m\u001b[0mNUM_EPOCHS\u001b[0m\u001b[0;34m,\u001b[0m \u001b[0mcallbacks\u001b[0m\u001b[0;34m=\u001b[0m\u001b[0mcallbacks\u001b[0m\u001b[0;34m,\u001b[0m \u001b[0mvalidation_data\u001b[0m\u001b[0;34m=\u001b[0m\u001b[0mvalidation_gen\u001b[0m\u001b[0;34m,\u001b[0m \u001b[0mvalidation_steps\u001b[0m\u001b[0;34m=\u001b[0m\u001b[0;36m408400\u001b[0m \u001b[0;34m/\u001b[0m \u001b[0mconfig\u001b[0m\u001b[0;34m.\u001b[0m\u001b[0mbatch_size\u001b[0m \u001b[0;34m*\u001b[0m\u001b[0;36m2\u001b[0m\u001b[0;34m)\u001b[0m\u001b[0;34m\u001b[0m\u001b[0;34m\u001b[0m\u001b[0m\n\u001b[0m",
            "\u001b[0;32m/usr/local/lib/python3.7/dist-packages/wandb/integration/keras/keras.py\u001b[0m in \u001b[0;36mnew_v2\u001b[0;34m(*args, **kwargs)\u001b[0m\n\u001b[1;32m    122\u001b[0m             \u001b[0;32mfor\u001b[0m \u001b[0mcbk\u001b[0m \u001b[0;32min\u001b[0m \u001b[0mcbks\u001b[0m\u001b[0;34m:\u001b[0m\u001b[0;34m\u001b[0m\u001b[0;34m\u001b[0m\u001b[0m\n\u001b[1;32m    123\u001b[0m                 \u001b[0mset_wandb_attrs\u001b[0m\u001b[0;34m(\u001b[0m\u001b[0mcbk\u001b[0m\u001b[0;34m,\u001b[0m \u001b[0mval_data\u001b[0m\u001b[0;34m)\u001b[0m\u001b[0;34m\u001b[0m\u001b[0;34m\u001b[0m\u001b[0m\n\u001b[0;32m--> 124\u001b[0;31m         \u001b[0;32mreturn\u001b[0m \u001b[0mold_v2\u001b[0m\u001b[0;34m(\u001b[0m\u001b[0;34m*\u001b[0m\u001b[0margs\u001b[0m\u001b[0;34m,\u001b[0m \u001b[0;34m**\u001b[0m\u001b[0mkwargs\u001b[0m\u001b[0;34m)\u001b[0m\u001b[0;34m\u001b[0m\u001b[0;34m\u001b[0m\u001b[0m\n\u001b[0m\u001b[1;32m    125\u001b[0m \u001b[0;34m\u001b[0m\u001b[0m\n\u001b[1;32m    126\u001b[0m     \u001b[0mtraining_arrays\u001b[0m\u001b[0;34m.\u001b[0m\u001b[0morig_fit_loop\u001b[0m \u001b[0;34m=\u001b[0m \u001b[0mold_arrays\u001b[0m\u001b[0;34m\u001b[0m\u001b[0;34m\u001b[0m\u001b[0m\n",
            "\u001b[0;32m/usr/local/lib/python3.7/dist-packages/tensorflow/python/keras/engine/training.py\u001b[0m in \u001b[0;36mfit\u001b[0;34m(self, x, y, batch_size, epochs, verbose, callbacks, validation_split, validation_data, shuffle, class_weight, sample_weight, initial_epoch, steps_per_epoch, validation_steps, validation_batch_size, validation_freq, max_queue_size, workers, use_multiprocessing)\u001b[0m\n\u001b[1;32m   1098\u001b[0m                 _r=1):\n\u001b[1;32m   1099\u001b[0m               \u001b[0mcallbacks\u001b[0m\u001b[0;34m.\u001b[0m\u001b[0mon_train_batch_begin\u001b[0m\u001b[0;34m(\u001b[0m\u001b[0mstep\u001b[0m\u001b[0;34m)\u001b[0m\u001b[0;34m\u001b[0m\u001b[0;34m\u001b[0m\u001b[0m\n\u001b[0;32m-> 1100\u001b[0;31m               \u001b[0mtmp_logs\u001b[0m \u001b[0;34m=\u001b[0m \u001b[0mself\u001b[0m\u001b[0;34m.\u001b[0m\u001b[0mtrain_function\u001b[0m\u001b[0;34m(\u001b[0m\u001b[0miterator\u001b[0m\u001b[0;34m)\u001b[0m\u001b[0;34m\u001b[0m\u001b[0;34m\u001b[0m\u001b[0m\n\u001b[0m\u001b[1;32m   1101\u001b[0m               \u001b[0;32mif\u001b[0m \u001b[0mdata_handler\u001b[0m\u001b[0;34m.\u001b[0m\u001b[0mshould_sync\u001b[0m\u001b[0;34m:\u001b[0m\u001b[0;34m\u001b[0m\u001b[0;34m\u001b[0m\u001b[0m\n\u001b[1;32m   1102\u001b[0m                 \u001b[0mcontext\u001b[0m\u001b[0;34m.\u001b[0m\u001b[0masync_wait\u001b[0m\u001b[0;34m(\u001b[0m\u001b[0;34m)\u001b[0m\u001b[0;34m\u001b[0m\u001b[0;34m\u001b[0m\u001b[0m\n",
            "\u001b[0;32m/usr/local/lib/python3.7/dist-packages/tensorflow/python/eager/def_function.py\u001b[0m in \u001b[0;36m__call__\u001b[0;34m(self, *args, **kwds)\u001b[0m\n\u001b[1;32m    826\u001b[0m     \u001b[0mtracing_count\u001b[0m \u001b[0;34m=\u001b[0m \u001b[0mself\u001b[0m\u001b[0;34m.\u001b[0m\u001b[0mexperimental_get_tracing_count\u001b[0m\u001b[0;34m(\u001b[0m\u001b[0;34m)\u001b[0m\u001b[0;34m\u001b[0m\u001b[0;34m\u001b[0m\u001b[0m\n\u001b[1;32m    827\u001b[0m     \u001b[0;32mwith\u001b[0m \u001b[0mtrace\u001b[0m\u001b[0;34m.\u001b[0m\u001b[0mTrace\u001b[0m\u001b[0;34m(\u001b[0m\u001b[0mself\u001b[0m\u001b[0;34m.\u001b[0m\u001b[0m_name\u001b[0m\u001b[0;34m)\u001b[0m \u001b[0;32mas\u001b[0m \u001b[0mtm\u001b[0m\u001b[0;34m:\u001b[0m\u001b[0;34m\u001b[0m\u001b[0;34m\u001b[0m\u001b[0m\n\u001b[0;32m--> 828\u001b[0;31m       \u001b[0mresult\u001b[0m \u001b[0;34m=\u001b[0m \u001b[0mself\u001b[0m\u001b[0;34m.\u001b[0m\u001b[0m_call\u001b[0m\u001b[0;34m(\u001b[0m\u001b[0;34m*\u001b[0m\u001b[0margs\u001b[0m\u001b[0;34m,\u001b[0m \u001b[0;34m**\u001b[0m\u001b[0mkwds\u001b[0m\u001b[0;34m)\u001b[0m\u001b[0;34m\u001b[0m\u001b[0;34m\u001b[0m\u001b[0m\n\u001b[0m\u001b[1;32m    829\u001b[0m       \u001b[0mcompiler\u001b[0m \u001b[0;34m=\u001b[0m \u001b[0;34m\"xla\"\u001b[0m \u001b[0;32mif\u001b[0m \u001b[0mself\u001b[0m\u001b[0;34m.\u001b[0m\u001b[0m_experimental_compile\u001b[0m \u001b[0;32melse\u001b[0m \u001b[0;34m\"nonXla\"\u001b[0m\u001b[0;34m\u001b[0m\u001b[0;34m\u001b[0m\u001b[0m\n\u001b[1;32m    830\u001b[0m       \u001b[0mnew_tracing_count\u001b[0m \u001b[0;34m=\u001b[0m \u001b[0mself\u001b[0m\u001b[0;34m.\u001b[0m\u001b[0mexperimental_get_tracing_count\u001b[0m\u001b[0;34m(\u001b[0m\u001b[0;34m)\u001b[0m\u001b[0;34m\u001b[0m\u001b[0;34m\u001b[0m\u001b[0m\n",
            "\u001b[0;32m/usr/local/lib/python3.7/dist-packages/tensorflow/python/eager/def_function.py\u001b[0m in \u001b[0;36m_call\u001b[0;34m(self, *args, **kwds)\u001b[0m\n\u001b[1;32m    853\u001b[0m       \u001b[0;31m# In this case we have created variables on the first call, so we run the\u001b[0m\u001b[0;34m\u001b[0m\u001b[0;34m\u001b[0m\u001b[0;34m\u001b[0m\u001b[0m\n\u001b[1;32m    854\u001b[0m       \u001b[0;31m# defunned version which is guaranteed to never create variables.\u001b[0m\u001b[0;34m\u001b[0m\u001b[0;34m\u001b[0m\u001b[0;34m\u001b[0m\u001b[0m\n\u001b[0;32m--> 855\u001b[0;31m       \u001b[0;32mreturn\u001b[0m \u001b[0mself\u001b[0m\u001b[0;34m.\u001b[0m\u001b[0m_stateless_fn\u001b[0m\u001b[0;34m(\u001b[0m\u001b[0;34m*\u001b[0m\u001b[0margs\u001b[0m\u001b[0;34m,\u001b[0m \u001b[0;34m**\u001b[0m\u001b[0mkwds\u001b[0m\u001b[0;34m)\u001b[0m  \u001b[0;31m# pylint: disable=not-callable\u001b[0m\u001b[0;34m\u001b[0m\u001b[0;34m\u001b[0m\u001b[0m\n\u001b[0m\u001b[1;32m    856\u001b[0m     \u001b[0;32melif\u001b[0m \u001b[0mself\u001b[0m\u001b[0;34m.\u001b[0m\u001b[0m_stateful_fn\u001b[0m \u001b[0;32mis\u001b[0m \u001b[0;32mnot\u001b[0m \u001b[0;32mNone\u001b[0m\u001b[0;34m:\u001b[0m\u001b[0;34m\u001b[0m\u001b[0;34m\u001b[0m\u001b[0m\n\u001b[1;32m    857\u001b[0m       \u001b[0;31m# Release the lock early so that multiple threads can perform the call\u001b[0m\u001b[0;34m\u001b[0m\u001b[0;34m\u001b[0m\u001b[0;34m\u001b[0m\u001b[0m\n",
            "\u001b[0;32m/usr/local/lib/python3.7/dist-packages/tensorflow/python/eager/function.py\u001b[0m in \u001b[0;36m__call__\u001b[0;34m(self, *args, **kwargs)\u001b[0m\n\u001b[1;32m   2941\u001b[0m        filtered_flat_args) = self._maybe_define_function(args, kwargs)\n\u001b[1;32m   2942\u001b[0m     return graph_function._call_flat(\n\u001b[0;32m-> 2943\u001b[0;31m         filtered_flat_args, captured_inputs=graph_function.captured_inputs)  # pylint: disable=protected-access\n\u001b[0m\u001b[1;32m   2944\u001b[0m \u001b[0;34m\u001b[0m\u001b[0m\n\u001b[1;32m   2945\u001b[0m   \u001b[0;34m@\u001b[0m\u001b[0mproperty\u001b[0m\u001b[0;34m\u001b[0m\u001b[0;34m\u001b[0m\u001b[0m\n",
            "\u001b[0;32m/usr/local/lib/python3.7/dist-packages/tensorflow/python/eager/function.py\u001b[0m in \u001b[0;36m_call_flat\u001b[0;34m(self, args, captured_inputs, cancellation_manager)\u001b[0m\n\u001b[1;32m   1917\u001b[0m       \u001b[0;31m# No tape is watching; skip to running the function.\u001b[0m\u001b[0;34m\u001b[0m\u001b[0;34m\u001b[0m\u001b[0;34m\u001b[0m\u001b[0m\n\u001b[1;32m   1918\u001b[0m       return self._build_call_outputs(self._inference_function.call(\n\u001b[0;32m-> 1919\u001b[0;31m           ctx, args, cancellation_manager=cancellation_manager))\n\u001b[0m\u001b[1;32m   1920\u001b[0m     forward_backward = self._select_forward_and_backward_functions(\n\u001b[1;32m   1921\u001b[0m         \u001b[0margs\u001b[0m\u001b[0;34m,\u001b[0m\u001b[0;34m\u001b[0m\u001b[0;34m\u001b[0m\u001b[0m\n",
            "\u001b[0;32m/usr/local/lib/python3.7/dist-packages/tensorflow/python/eager/function.py\u001b[0m in \u001b[0;36mcall\u001b[0;34m(self, ctx, args, cancellation_manager)\u001b[0m\n\u001b[1;32m    558\u001b[0m               \u001b[0minputs\u001b[0m\u001b[0;34m=\u001b[0m\u001b[0margs\u001b[0m\u001b[0;34m,\u001b[0m\u001b[0;34m\u001b[0m\u001b[0;34m\u001b[0m\u001b[0m\n\u001b[1;32m    559\u001b[0m               \u001b[0mattrs\u001b[0m\u001b[0;34m=\u001b[0m\u001b[0mattrs\u001b[0m\u001b[0;34m,\u001b[0m\u001b[0;34m\u001b[0m\u001b[0;34m\u001b[0m\u001b[0m\n\u001b[0;32m--> 560\u001b[0;31m               ctx=ctx)\n\u001b[0m\u001b[1;32m    561\u001b[0m         \u001b[0;32melse\u001b[0m\u001b[0;34m:\u001b[0m\u001b[0;34m\u001b[0m\u001b[0;34m\u001b[0m\u001b[0m\n\u001b[1;32m    562\u001b[0m           outputs = execute.execute_with_cancellation(\n",
            "\u001b[0;32m/usr/local/lib/python3.7/dist-packages/tensorflow/python/eager/execute.py\u001b[0m in \u001b[0;36mquick_execute\u001b[0;34m(op_name, num_outputs, inputs, attrs, ctx, name)\u001b[0m\n\u001b[1;32m     58\u001b[0m     \u001b[0mctx\u001b[0m\u001b[0;34m.\u001b[0m\u001b[0mensure_initialized\u001b[0m\u001b[0;34m(\u001b[0m\u001b[0;34m)\u001b[0m\u001b[0;34m\u001b[0m\u001b[0;34m\u001b[0m\u001b[0m\n\u001b[1;32m     59\u001b[0m     tensors = pywrap_tfe.TFE_Py_Execute(ctx._handle, device_name, op_name,\n\u001b[0;32m---> 60\u001b[0;31m                                         inputs, attrs, num_outputs)\n\u001b[0m\u001b[1;32m     61\u001b[0m   \u001b[0;32mexcept\u001b[0m \u001b[0mcore\u001b[0m\u001b[0;34m.\u001b[0m\u001b[0m_NotOkStatusException\u001b[0m \u001b[0;32mas\u001b[0m \u001b[0me\u001b[0m\u001b[0;34m:\u001b[0m\u001b[0;34m\u001b[0m\u001b[0;34m\u001b[0m\u001b[0m\n\u001b[1;32m     62\u001b[0m     \u001b[0;32mif\u001b[0m \u001b[0mname\u001b[0m \u001b[0;32mis\u001b[0m \u001b[0;32mnot\u001b[0m \u001b[0;32mNone\u001b[0m\u001b[0;34m:\u001b[0m\u001b[0;34m\u001b[0m\u001b[0;34m\u001b[0m\u001b[0m\n",
            "\u001b[0;31mKeyboardInterrupt\u001b[0m: "
          ]
        }
      ]
    },
    {
      "cell_type": "code",
      "metadata": {
        "id": "NIn7XKFlSDDZ"
      },
      "source": [
        "#models.save('/content/moyModel.h5')history.history['loss']\n",
        "print(history.history.keys())"
      ],
      "execution_count": null,
      "outputs": []
    },
    {
      "cell_type": "code",
      "metadata": {
        "id": "ePUefw74HrM3"
      },
      "source": [
        "a= [1,2,3,4,5]"
      ],
      "execution_count": null,
      "outputs": []
    },
    {
      "cell_type": "code",
      "metadata": {
        "id": "UZ4bCx4BHsoQ"
      },
      "source": [
        "a[start : end :step_size]"
      ],
      "execution_count": null,
      "outputs": []
    },
    {
      "cell_type": "code",
      "metadata": {
        "colab": {
          "base_uri": "https://localhost:8080/"
        },
        "id": "UlNcqmqlH9US",
        "outputId": "3de7ab7a-343b-4e28-c5e8-d7c4683f3ca1"
      },
      "source": [
        "a[0:5]"
      ],
      "execution_count": null,
      "outputs": [
        {
          "output_type": "execute_result",
          "data": {
            "text/plain": [
              "[1, 2, 3, 4, 5]"
            ]
          },
          "metadata": {
            "tags": []
          },
          "execution_count": 25
        }
      ]
    },
    {
      "cell_type": "code",
      "metadata": {
        "id": "jnOG8gzukJeh"
      },
      "source": [
        "import selenium"
      ],
      "execution_count": null,
      "outputs": []
    },
    {
      "cell_type": "code",
      "metadata": {
        "id": "8YI4dnLN6hUY"
      },
      "source": [
        "from keras.losses import MAE"
      ],
      "execution_count": null,
      "outputs": []
    },
    {
      "cell_type": "code",
      "metadata": {
        "id": "Hoy-kqCHlKHO"
      },
      "source": [
        "round(history.history['loss'][-1],3)"
      ],
      "execution_count": null,
      "outputs": []
    },
    {
      "cell_type": "code",
      "metadata": {
        "colab": {
          "base_uri": "https://localhost:8080/",
          "height": 281
        },
        "id": "NncVdbPgsfuf",
        "outputId": "38d64989-0d2c-4e75-92c7-0aee705b6b46"
      },
      "source": [
        "plt.title(f\"lr: {MIN_LR}-{MAX_LR},  Gen-Box-HisWay ,  epch: {NUM_EPOCHS}\")\n",
        "plt.plot(history.history['age_mean_absolute_error'])\n",
        "plt.ylim(0,7)\n",
        "plt.grid(axis='both')\n",
        "plt.xlim(0,70)\n",
        "plt.plot(history.history['val_age_mean_absolute_error'])\n",
        "plt.legend(['age_mean_absolute_error', 'val_age_mean_absolute_error'], loc='upper left')\n",
        "best_score = round(min(history.history['val_age_mean_absolute_error']),2)\n",
        "plt.savefig('/content/gdrive/MyDrive/'+str(best_score)+'.png')\n",
        "plt.show()"
      ],
      "execution_count": null,
      "outputs": [
        {
          "output_type": "display_data",
          "data": {
            "image/png": "[encoded data removed]",
            "text/plain": [
              "<Figure size 432x288 with 1 Axes>"
            ]
          },
          "metadata": {
            "tags": []
          }
        }
      ]
    },
    {
      "cell_type": "code",
      "metadata": {
        "id": "P_NSsXKF0xsF"
      },
      "source": [
        "#model.reset_metrics()"
      ],
      "execution_count": null,
      "outputs": []
    },
    {
      "cell_type": "code",
      "metadata": {
        "id": "7KIHNHK5Ijn4"
      },
      "source": [
        "model.save(f'/content/{best_score}-Model.h5')"
      ],
      "execution_count": null,
      "outputs": []
    },
    {
      "cell_type": "markdown",
      "metadata": {
        "id": "Ee59bZINmiJ6"
      },
      "source": [
        "\n",
        "\n",
        "> ## **`Inference`**\n",
        "\n",
        "\n",
        "\n",
        "\n"
      ]
    },
    {
      "cell_type": "code",
      "metadata": {
        "id": "a03aPpVhoOKh"
      },
      "source": [
        "detector = dlib.get_frontal_face_detector()\n",
        "predictor = dlib.shape_predictor(\"/content/C3AE/detect/shape_predictor_68_face_landmarks.dat\")\n",
        "def gen_face(image):\n",
        "  face_rect_list = detector(image)\n",
        "  xmin, ymin, xmax, ymax = face_rect_list[0].left() , face_rect_list[0].top(), face_rect_list[0].right(), face_rect_list[0].bottom() # face_rect is dlib.rectangle object, so extracting values from it\n",
        "  lmarks_list = dlib.full_object_detections()\n",
        "  for face_rect in face_rect_list:\n",
        "    lmarks_list.append(predictor(image, face_rect)) # getting landmarks as a list of objects\n",
        "  return np.array([xmin, ymin, xmax, ymax]), lmarks_list\n",
        "\n",
        "def gen_boundbox(box, landmark):\n",
        "    # getting 3 boxes for face, as required in paper... i.e feed 3 different sized images to network (R,G,B) \n",
        "    xmin, ymin, xmax, ymax = box # box is [ymin, xmin, ymax, xmax]\n",
        "    w, h = xmax - xmin, ymax - ymin\n",
        "    nose_x, nose_y = (landmark.parts()[30].x, landmark.parts()[30].y) # calculating nose center point, so the triple boxes will be cropped according to nose point\n",
        "    w_h_margin = abs(w - h)\n",
        "    top2nose = nose_y - ymin\n",
        "    # Contains the smallest frame\n",
        "    return np.array([\n",
        "        [(xmin - w_h_margin, ymin - w_h_margin), (xmax + w_h_margin, ymax + w_h_margin)],  # out\n",
        "        [(nose_x - top2nose, nose_y - top2nose), (nose_x + top2nose, nose_y + top2nose)],  # middle\n",
        "        [(nose_x - w//2, nose_y - w//2), (nose_x + w//2, nose_y + w//2)]  # inner box\n",
        "    ])"
      ],
      "execution_count": null,
      "outputs": []
    },
    {
      "cell_type": "code",
      "metadata": {
        "id": "Um60VY96mkLj"
      },
      "source": [
        "img = cv2.imread('/content/test.jpg')\n",
        "model = models"
      ],
      "execution_count": null,
      "outputs": []
    },
    {
      "cell_type": "code",
      "metadata": {
        "id": "UqMvA2s4n2xP"
      },
      "source": [
        "try:\n",
        "    bounds, lmarks = gen_face(img)\n",
        "except Exception as e:\n",
        "  print(e)\n",
        "\n",
        "padding = 200\n",
        "cv2.copyMakeBorder(img, padding, padding, padding, padding, cv2.BORDER_CONSTANT)"
      ],
      "execution_count": null,
      "outputs": []
    },
    {
      "cell_type": "code",
      "metadata": {
        "id": "sGw3Ubc0qenf"
      },
      "source": [
        "for pidx,landmarks in enumerate(lmarks):\n",
        "    trible_box = gen_boundbox(bounds, landmarks)\n",
        "    tri_imgs = []\n",
        "    for bbox in trible_box:\n",
        "        bbox = bbox #+ padding\n",
        "        h_min, w_min = bbox[0]\n",
        "        h_max, w_max = bbox[1]\n",
        "        tri_imgs.append(cv2.resize(new_bd_img[w_min:w_max, h_min:h_max], (64, 64)))\n",
        "    print(np.array(tri_imgs).shape)"
      ],
      "execution_count": null,
      "outputs": []
    },
    {
      "cell_type": "code",
      "metadata": {
        "id": "kk51n4GP9eW7"
      },
      "source": [
        "testing_imgs = []\n",
        "for img in tri_imgs:\n",
        "  new_img = np.expand_dims(img,axis=0)\n",
        "  testing_imgs.append(new_img)"
      ],
      "execution_count": null,
      "outputs": []
    },
    {
      "cell_type": "code",
      "metadata": {
        "id": "6uFSLGqcsRW4"
      },
      "source": [
        "result = models.predict(testing_imgs)"
      ],
      "execution_count": null,
      "outputs": []
    },
    {
      "cell_type": "code",
      "metadata": {
        "id": "mVBYlz4m2ON-"
      },
      "source": [
        "result"
      ],
      "execution_count": null,
      "outputs": []
    },
    {
      "cell_type": "code",
      "metadata": {
        "id": "tazYWqvB1DbF"
      },
      "source": [
        "img = tri_imgs[0]"
      ],
      "execution_count": null,
      "outputs": []
    },
    {
      "cell_type": "code",
      "metadata": {
        "id": "HuP7CQ551FrU"
      },
      "source": [
        "a = np.expand_dims(img,axis=0)"
      ],
      "execution_count": null,
      "outputs": []
    },
    {
      "cell_type": "code",
      "metadata": {
        "id": "JImUh3Rx2VUx"
      },
      "source": [
        "1.0071468e-01"
      ],
      "execution_count": null,
      "outputs": []
    },
    {
      "cell_type": "markdown",
      "metadata": {
        "id": "FU3rWn-LBhRo"
      },
      "source": [
        "\n",
        "\n",
        "> ## **`playground`**\n",
        "\n"
      ]
    },
    {
      "cell_type": "code",
      "metadata": {
        "colab": {
          "base_uri": "https://localhost:8080/"
        },
        "id": "yk5iR-gLFaay",
        "outputId": "eadfed20-7495-4de0-b482-10442933381a"
      },
      "source": [
        "cd /content/"
      ],
      "execution_count": null,
      "outputs": [
        {
          "output_type": "stream",
          "text": [
            "/content\n"
          ],
          "name": "stdout"
        }
      ]
    },
    {
      "cell_type": "code",
      "metadata": {
        "id": "U1OASB9DsdHF"
      },
      "source": [
        "\n",
        "!git clone https://github.com/jacobgil/keras-grad-cam.git"
      ],
      "execution_count": null,
      "outputs": []
    },
    {
      "cell_type": "code",
      "metadata": {
        "id": "pR8uHjxD6boU"
      },
      "source": [
        "!python /content/keras-grad-cam/grad-cam.py /content/keras-grad-cam/examples/cat_dog.png"
      ],
      "execution_count": null,
      "outputs": []
    },
    {
      "cell_type": "code",
      "metadata": {
        "id": "gCrlre_46bua"
      },
      "source": [
        "# ----------------------------------NEW NET-----------------------------\n",
        "\n",
        "def CBTM2(input_height=64, input_width=64, input_channels=3):\n",
        "  input_X = Input(shape=(input_height, input_width, input_channels))\n",
        "  w1 = Lambda(white_norm,name='white_norm')(input_X)\n",
        "  s = Conv2D(16,(4,4))(w1)\n",
        "  s = BatchNormalization(axis=-1)(s)\n",
        "  s = Activation('tanh')(s)\n",
        "  s = MaxPooling2D(2,2)(s)\n",
        "  s = Conv2D(32,(4,4))(s)\n",
        "  s = BatchNormalization(axis=-1)(s)\n",
        "  s = Activation('tanh')(s)\n",
        "  s = MaxPooling2D(2,2)(s)\n",
        "  s = Conv2D(64,(2,2))(s)\n",
        "  s = BatchNormalization(axis=-1)(s)\n",
        "  s = Activation('tanh')(s) \n",
        "  outtt = GlobalAveragePooling2D()(s)\n",
        "  outtt = Dense(8,activation='relu')(outtt)\n",
        "  return Model(inputs=[input_X], outputs=[outtt])\n",
        "\n",
        "\n",
        "def CBRA2(input_height=64, input_width=64, input_channels=3):\n",
        "  input_R = Input(shape=(input_height, input_width, input_channels))\n",
        "  w1 = Lambda(white_norm,name='white_norm')(input_R)\n",
        "  s = Conv2D(16,(4,4))(w1)\n",
        "  s = BatchNormalization(axis=-1)(s)\n",
        "  s = Activation('relu')(s)\n",
        "  s = AveragePooling2D(2,2)(s)\n",
        "  s = Conv2D(32,(4,4))(s)\n",
        "  s = BatchNormalization(axis=-1)(s)\n",
        "  s = Activation('relu')(s)\n",
        "  s = AveragePooling2D(2,2)(s)\n",
        "  s = Conv2D(64,(2,2))(s)\n",
        "  s = BatchNormalization(axis=-1)(s)\n",
        "  s = Activation('relu')(s)\n",
        "  outt = GlobalAveragePooling2D()(s)\n",
        "  outt = Dense(8,activation='relu')(outt)\n",
        "  return Model(inputs=[input_R], outputs=[outt])\n",
        "\n",
        "\n",
        "def model_new(Categories=12, input_height=64, input_width=64, input_channels=3, using_white_norm=True, using_SE=True):\n",
        "\n",
        "  x1 = Input(shape=(input_height, input_width, input_channels))\n",
        "  x2 = Input(shape=(input_height, input_width, input_channels))\n",
        "  x3 = Input(shape=(input_height, input_width, input_channels))\n",
        "\n",
        "  CBT = CBTM2(input_height=input_height,input_width=input_width,input_channels=input_channels)\n",
        "  CBR = CBRA2(input_height=input_height,input_width=input_width,input_channels=input_channels)\n",
        "\n",
        "  # set_trace()\n",
        "  y1 = CBT(x1)\n",
        "  y2 = CBT(x2)\n",
        "  y3 = CBR(x3)\n",
        "\n",
        "  cfeat = Concatenate(axis=-1)([y1,y2,y3])\n",
        "  cfeat = Dropout(0.3)(cfeat)\n",
        "  Fc1 = Dense(120, use_bias=True, activity_regularizer=regularizers.l1(0), activation=LeakyReLU(alpha=0.1), name=\"FC1\")(cfeat)\n",
        "  bulk_feat = Dense(Categories, use_bias=True, activity_regularizer=regularizers.l1(0), activation='softmax', name=\"W1\")(Fc1)\n",
        "  age = Dense(1, name=\"age\")(bulk_feat)\n",
        "  \n",
        "  return Model(inputs=[x1,x2,x3], outputs=[age, bulk_feat])\n"
      ],
      "execution_count": null,
      "outputs": []
    },
    {
      "cell_type": "markdown",
      "metadata": {
        "id": "efNT_wxXtDS9"
      },
      "source": [
        "# **My Own Dataset Experiments**"
      ]
    },
    {
      "cell_type": "code",
      "metadata": {
        "id": "W4ZOZz_ctUfM"
      },
      "source": [
        "pth = Path('/content/gdrive/MyDrive/Final_Dataset')\n",
        "csv_path = '/content/gdrive/MyDrive/Final_Dataset/dataset-meta.csv'"
      ],
      "execution_count": null,
      "outputs": []
    },
    {
      "cell_type": "code",
      "metadata": {
        "id": "6mce2sKMtZAU"
      },
      "source": [
        "i = 0\n",
        "for filename in pth.glob('*.tar.gz'):\n",
        "  # if i > 2:\n",
        "  print('will copy',filename)\n",
        "  new_path = shutil.copy(filename,'/content/')\n",
        "  print('copied file',new_path)\n",
        "  shutil.unpack_archive(new_path,'/content/RP/dataset/Dataset/')\n",
        "  print('unpacked')\n",
        "  # break\n",
        "  # i += 1\n",
        "shutil.copy(csv_path,'/content/RP/dataset/Dataset/dataset-meta.csv')"
      ],
      "execution_count": null,
      "outputs": []
    },
    {
      "cell_type": "code",
      "metadata": {
        "colab": {
          "base_uri": "https://localhost:8080/"
        },
        "id": "JG02IfIsxNsI",
        "outputId": "3d463c1c-2b58-436f-897e-47f771473c45"
      },
      "source": [
        "cd /content/RP/"
      ],
      "execution_count": null,
      "outputs": [
        {
          "output_type": "stream",
          "text": [
            "/content/RP\n"
          ],
          "name": "stdout"
        }
      ]
    },
    {
      "cell_type": "code",
      "metadata": {
        "id": "3nnI6k4gXWlX"
      },
      "source": [
        "img = '/content/RP/dataset/Dataset/0/nm0000003/r9axw1.jpg'\n",
        "plt.imshow(cv2.imread(img))"
      ],
      "execution_count": null,
      "outputs": []
    },
    {
      "cell_type": "code",
      "metadata": {
        "colab": {
          "base_uri": "https://localhost:8080/"
        },
        "id": "dPt9Y50qxNsJ",
        "outputId": "49f5cd03-ced3-4b11-d727-59f1f8ec3fb7"
      },
      "source": [
        "#Wiki-IDMB\n",
        "#!python /content/RP/m_preprocess_dataset/pre_process_WIKI-IMDB.py\n",
        "#Morph\n",
        "#!python /content/RP/m_preprocess_dataset/pre_process_Morph.py\n",
        "#Mine Dataset\n",
        "!python /content/RP/m_preprocess_dataset/pre_process_dataset.py"
      ],
      "execution_count": null,
      "outputs": [
        {
          "output_type": "stream",
          "text": [
            "2632000 : processed and useful  2742\n",
            "2635000 : processed and useful  4135\n",
            "succesfully saved as feather to  /content/gdrive/MyDrive/Prep-Processed-Datasets/our-preprocessed/mine-data_2636797.feather\n",
            "chunk saved of size  5000\n",
            "2641000 : processed and useful  2039\n",
            "2646000 : processed and useful  4261\n",
            "2647000 : processed and useful  4674\n"
          ],
          "name": "stdout"
        }
      ]
    },
    {
      "cell_type": "code",
      "metadata": {
        "id": "t3AizhRzxNsK"
      },
      "source": [
        "p = Path('/content')\n",
        "for f in p.glob('*.jpg'):\n",
        "  os.remove(f)"
      ],
      "execution_count": null,
      "outputs": []
    },
    {
      "cell_type": "code",
      "metadata": {
        "colab": {
          "base_uri": "https://localhost:8080/",
          "height": 35
        },
        "id": "01vjzEipihCq",
        "outputId": "ee1da624-fa37-4955-cec6-5d1df3a7b167"
      },
      "source": [
        "shutil.copy(csv_path,'/content/RP/dataset/mine/')"
      ],
      "execution_count": null,
      "outputs": [
        {
          "output_type": "execute_result",
          "data": {
            "application/vnd.google.colaboratory.intrinsic+json": {
              "type": "string"
            },
            "text/plain": [
              "'/content/RP/dataset/mine/dataset-meta.csv'"
            ]
          },
          "metadata": {
            "tags": []
          },
          "execution_count": 16
        }
      ]
    },
    {
      "cell_type": "code",
      "metadata": {
        "id": "IR13FakdB8yd"
      },
      "source": [
        "# load meta-CSV\n",
        "df = pd.read_csv(csv_path)\n",
        "df"
      ],
      "execution_count": null,
      "outputs": []
    },
    {
      "cell_type": "code",
      "metadata": {
        "colab": {
          "base_uri": "https://localhost:8080/",
          "height": 419
        },
        "id": "4rASd5SnKonP",
        "outputId": "18d5a213-36b3-42dd-e1a8-f4ec7bce3014"
      },
      "source": [
        "df.copy().reset_index()"
      ],
      "execution_count": null,
      "outputs": [
        {
          "output_type": "execute_result",
          "data": {
            "text/html": [
              "<div>\n",
              "<style scoped>\n",
              "    .dataframe tbody tr th:only-of-type {\n",
              "        vertical-align: middle;\n",
              "    }\n",
              "\n",
              "    .dataframe tbody tr th {\n",
              "        vertical-align: top;\n",
              "    }\n",
              "\n",
              "    .dataframe thead th {\n",
              "        text-align: right;\n",
              "    }\n",
              "</style>\n",
              "<table border=\"1\" class=\"dataframe\">\n",
              "  <thead>\n",
              "    <tr style=\"text-align: right;\">\n",
              "      <th></th>\n",
              "      <th>index</th>\n",
              "      <th>nconst</th>\n",
              "      <th>age</th>\n",
              "      <th>gender</th>\n",
              "      <th>country</th>\n",
              "      <th>imageName</th>\n",
              "      <th>imgPath</th>\n",
              "    </tr>\n",
              "  </thead>\n",
              "  <tbody>\n",
              "    <tr>\n",
              "      <th>0</th>\n",
              "      <td>0</td>\n",
              "      <td>nm0000001</td>\n",
              "      <td>56</td>\n",
              "      <td>M</td>\n",
              "      <td>Omaha, Nebraska, USA</td>\n",
              "      <td>bpttck.jpg</td>\n",
              "      <td>Dataset/0/nm0000001/bpttck.jpg</td>\n",
              "    </tr>\n",
              "    <tr>\n",
              "      <th>1</th>\n",
              "      <td>1</td>\n",
              "      <td>nm0000001</td>\n",
              "      <td>36</td>\n",
              "      <td>M</td>\n",
              "      <td>Omaha, Nebraska, USA</td>\n",
              "      <td>c466bx.jpg</td>\n",
              "      <td>Dataset/0/nm0000001/c466bx.jpg</td>\n",
              "    </tr>\n",
              "    <tr>\n",
              "      <th>2</th>\n",
              "      <td>2</td>\n",
              "      <td>nm0000001</td>\n",
              "      <td>36</td>\n",
              "      <td>M</td>\n",
              "      <td>Omaha, Nebraska, USA</td>\n",
              "      <td>a14p7x.jpg</td>\n",
              "      <td>Dataset/0/nm0000001/a14p7x.jpg</td>\n",
              "    </tr>\n",
              "    <tr>\n",
              "      <th>3</th>\n",
              "      <td>3</td>\n",
              "      <td>nm0000001</td>\n",
              "      <td>54</td>\n",
              "      <td>M</td>\n",
              "      <td>Omaha, Nebraska, USA</td>\n",
              "      <td>bptw5t.jpg</td>\n",
              "      <td>Dataset/0/nm0000001/bptw5t.jpg</td>\n",
              "    </tr>\n",
              "    <tr>\n",
              "      <th>4</th>\n",
              "      <td>4</td>\n",
              "      <td>nm0000001</td>\n",
              "      <td>36</td>\n",
              "      <td>M</td>\n",
              "      <td>Omaha, Nebraska, USA</td>\n",
              "      <td>c46e04.jpg</td>\n",
              "      <td>Dataset/0/nm0000001/c46e04.jpg</td>\n",
              "    </tr>\n",
              "    <tr>\n",
              "      <th>...</th>\n",
              "      <td>...</td>\n",
              "      <td>...</td>\n",
              "      <td>...</td>\n",
              "      <td>...</td>\n",
              "      <td>...</td>\n",
              "      <td>...</td>\n",
              "      <td>...</td>\n",
              "    </tr>\n",
              "    <tr>\n",
              "      <th>2647141</th>\n",
              "      <td>2647141</td>\n",
              "      <td>nm1864458</td>\n",
              "      <td>43</td>\n",
              "      <td>M</td>\n",
              "      <td>Brooklyn, New York, USA</td>\n",
              "      <td>r5a209.jpg</td>\n",
              "      <td>Dataset/8/nm1864458/r5a209.jpg</td>\n",
              "    </tr>\n",
              "    <tr>\n",
              "      <th>2647142</th>\n",
              "      <td>2647142</td>\n",
              "      <td>nm1864458</td>\n",
              "      <td>43</td>\n",
              "      <td>M</td>\n",
              "      <td>Brooklyn, New York, USA</td>\n",
              "      <td>r5a204.jpg</td>\n",
              "      <td>Dataset/8/nm1864458/r5a204.jpg</td>\n",
              "    </tr>\n",
              "    <tr>\n",
              "      <th>2647143</th>\n",
              "      <td>2647143</td>\n",
              "      <td>nm1864458</td>\n",
              "      <td>43</td>\n",
              "      <td>M</td>\n",
              "      <td>Brooklyn, New York, USA</td>\n",
              "      <td>r5a207.jpg</td>\n",
              "      <td>Dataset/8/nm1864458/r5a207.jpg</td>\n",
              "    </tr>\n",
              "    <tr>\n",
              "      <th>2647144</th>\n",
              "      <td>2647144</td>\n",
              "      <td>nm1864458</td>\n",
              "      <td>43</td>\n",
              "      <td>M</td>\n",
              "      <td>Brooklyn, New York, USA</td>\n",
              "      <td>r5a208.jpg</td>\n",
              "      <td>Dataset/8/nm1864458/r5a208.jpg</td>\n",
              "    </tr>\n",
              "    <tr>\n",
              "      <th>2647145</th>\n",
              "      <td>2647145</td>\n",
              "      <td>nm1867747</td>\n",
              "      <td>39</td>\n",
              "      <td>M</td>\n",
              "      <td>Wisconsin Rapids, Wisconsin, USA</td>\n",
              "      <td>ftekne.jpg</td>\n",
              "      <td>Dataset/8/nm1867747/ftekne.jpg</td>\n",
              "    </tr>\n",
              "  </tbody>\n",
              "</table>\n",
              "<p>2647146 rows × 7 columns</p>\n",
              "</div>"
            ],
            "text/plain": [
              "           index     nconst  ...   imageName                         imgPath\n",
              "0              0  nm0000001  ...  bpttck.jpg  Dataset/0/nm0000001/bpttck.jpg\n",
              "1              1  nm0000001  ...  c466bx.jpg  Dataset/0/nm0000001/c466bx.jpg\n",
              "2              2  nm0000001  ...  a14p7x.jpg  Dataset/0/nm0000001/a14p7x.jpg\n",
              "3              3  nm0000001  ...  bptw5t.jpg  Dataset/0/nm0000001/bptw5t.jpg\n",
              "4              4  nm0000001  ...  c46e04.jpg  Dataset/0/nm0000001/c46e04.jpg\n",
              "...          ...        ...  ...         ...                             ...\n",
              "2647141  2647141  nm1864458  ...  r5a209.jpg  Dataset/8/nm1864458/r5a209.jpg\n",
              "2647142  2647142  nm1864458  ...  r5a204.jpg  Dataset/8/nm1864458/r5a204.jpg\n",
              "2647143  2647143  nm1864458  ...  r5a207.jpg  Dataset/8/nm1864458/r5a207.jpg\n",
              "2647144  2647144  nm1864458  ...  r5a208.jpg  Dataset/8/nm1864458/r5a208.jpg\n",
              "2647145  2647145  nm1867747  ...  ftekne.jpg  Dataset/8/nm1867747/ftekne.jpg\n",
              "\n",
              "[2647146 rows x 7 columns]"
            ]
          },
          "metadata": {
            "tags": []
          },
          "execution_count": 27
        }
      ]
    },
    {
      "cell_type": "markdown",
      "metadata": {
        "id": "W79wqmH2Uz7k"
      },
      "source": [
        "# **Model_Backup**"
      ]
    },
    {
      "cell_type": "code",
      "metadata": {
        "id": "7fb-r_C7nALX"
      },
      "source": [
        "def gen_triple_face_box(box,landmarks,percent_margin=30):\n",
        "  xmin, ymin, xmax, ymax = box \n",
        "  h = xmax - xmin\n",
        "  #calculate gap value for bigger box\n",
        "  gap_margin = round(h * percent_margin/100)\n",
        "  \n",
        "  # inner-box\n",
        "  left_margin,right_margin = get_margin_right_left(landmarks,gap_margin)\n",
        "  # print(left_margin,right_margin)\n",
        "  if right_margin != 0:\n",
        "    if 0.66 < left_margin/right_margin < 1.55:\n",
        "      xmin, ymin, xmax, ymax = evaluate_face_box(xmin, ymin, xmax, ymax, landmarks,force_align=True) \n",
        "    else:\n",
        "      xmin, ymin, xmax, ymax = xmin-5, ymin-5, xmax+5, ymax+5\n",
        "  box_array = [[(xmin,ymin),(xmax,ymax)]]\n",
        "  \n",
        "  # middle box\n",
        "  left_margin,right_margin = get_margin_right_left(landmarks,gap_margin) # calculate gap_margin right and left\n",
        "  up_margin , down_margin  = get_margin_up_down_split(gap_margin)\n",
        "  new_X =  int(xmin - left_margin)\n",
        "  new_Y = int(ymin - up_margin)\n",
        "  new_X2 = int(xmax + right_margin)\n",
        "  new_Y2 = int(ymax + down_margin)\n",
        "  new_X,new_Y,new_X2,new_Y2 = evaluate_face_box(new_X,new_Y,new_X2,new_Y2,landmarks,force_align=True)\n",
        "  box_array.append([(new_X,new_Y),(new_X2,new_Y2)])\n",
        "  # outer box\n",
        "  gap_margin = gap_margin*-1.3 # because 3rd box will be further outside\n",
        "  left_margin,right_margin = get_margin_right_left(landmarks,gap_margin) # calculate gap_margin right and left\n",
        "  up_margin , down_margin  = get_margin_up_down_split(gap_margin)\n",
        "  new_X = int(xmin - left_margin)\n",
        "  new_Y = int(ymin - up_margin)\n",
        "  new_X2 =int(xmax + right_margin)\n",
        "  new_Y2 =int(ymax + down_margin)\n",
        "  new_X,new_Y,new_X2,new_Y2 = evaluate_face_box(new_X,new_Y,new_X2,new_Y2,landmarks)\n",
        "  box_array.append([(new_X,new_Y),(new_X2,new_Y2)])\n",
        "  return np.array(box_array) "
      ],
      "execution_count": null,
      "outputs": []
    },
    {
      "cell_type": "code",
      "metadata": {
        "id": "LODKsYuvW7Oc"
      },
      "source": [
        "#--------------------- MY CUSTOM MODEL... SRAE -------------------\n",
        "# score  = 6.45\n",
        "def CBRA(inputs):\n",
        "  x = Conv2D(32,(3,3))(inputs)\n",
        "  x = BatchNormalization(axis=-1)(x)\n",
        "  x = Activation('relu')(x)\n",
        "  x = SE_BLOCK(input=x)\n",
        "  x = Dropout(0.2)(x)\n",
        "  x = Conv2D(32,(5,5))(x)\n",
        "  x = BatchNormalization(axis=-1)(x)\n",
        "  x = Activation('relu')(x)\n",
        "  x = SE_BLOCK(input=x)\n",
        "  x_layer = AveragePooling2D(2,2)(x)\n",
        "  return x_layer\n",
        "\n",
        "# stream 2 module\n",
        "def CBTM(inputs):\n",
        "  s = Conv2D(2,(1,1))(inputs)\n",
        "  s = BatchNormalization(axis=-1)(s)\n",
        "  s = Activation('tanh')(s)\n",
        "  s = SE_BLOCK(input=s)\n",
        "  s = Conv2D(4,(2,2))(inputs)\n",
        "  s = BatchNormalization(axis=-1)(s)\n",
        "  s = Activation('tanh')(s)\n",
        "  s = SE_BLOCK(input=s)\n",
        "  s = Dropout(0.2)(s)\n",
        "  s = Conv2D(8,(3,3))(inputs)\n",
        "  s = BatchNormalization(axis=-1)(s)\n",
        "  s = Activation('tanh')(s)\n",
        "  s = SE_BLOCK(input=s)\n",
        "  s = Dropout(0.2)(s)    \n",
        "  s = Conv2D(16,(5,5))(s)\n",
        "  s = BatchNormalization(axis=-1)(s)\n",
        "  s = Activation('tanh')(s)\n",
        "  s = SE_BLOCK(input=s)\n",
        "  s_layer = MaxPooling2D(2,2)(s)   \n",
        "  return s_layer\n",
        "\n",
        "def PB(inputs):\n",
        "  # s_layer2_mix = Flatten()(inputs)\n",
        "  s_layer2_mix = GlobalAveragePooling2D()(inputs)\n",
        "  s_layer2_mix = Dense(12,activation='relu',activity_regularizer=regularizers.l1(0))(s_layer2_mix)\n",
        "  s_layer2_mix = Dropout(0.3)(s_layer2_mix)\n",
        "  s_layer2_mix = Dense(3,activation='relu')(s_layer2_mix)\n",
        "  return s_layer2_mix\n",
        "\n",
        "def first_embd(x1,isPB_Block=False):\n",
        "  x = CBRA(x1)\n",
        "  y = CBTM(x1)\n",
        "  if isPB_Block:\n",
        "    x = PB(x)\n",
        "    y = PB(y)\n",
        "    first_embd = Multiply()([x,y])\n",
        "    return first_embd\n",
        "  else:\n",
        "    return x,y\n",
        "\n",
        "def second_embd(x1,isPB_Block=False):\n",
        "  x,y = first_embd(x1,False)\n",
        "  x = CBRA(x)\n",
        "  y = CBTM(y)\n",
        "  if isPB_Block:\n",
        "    x = PB(x)\n",
        "    y = PB(y)\n",
        "    scnd_embd = Multiply()([x,y])\n",
        "    return scnd_embd\n",
        "  else:\n",
        "    return x,y\n",
        "\n",
        "def third_embd(x1):\n",
        "  x,y = second_embd(x1,False)\n",
        "  x = CBRA(x)\n",
        "  y = CBTM(y)\n",
        "  x = PB(x)\n",
        "  y = PB(y)\n",
        "  scnd_embd = Multiply()([x,y])\n",
        "  return scnd_embd\n",
        "\n",
        "\n",
        "def build_ssr(Categories, input_height, input_width, input_channels, using_white_norm=True, using_SE=True):\n",
        "  input_X = Input(shape=(input_height, input_width, input_channels))\n",
        "  w1 = Lambda(white_norm,name='white_norm')(input_X)\n",
        "  #--------- STREAM 1 ---------\n",
        "  frst_embd = first_embd(w1,isPB_Block=True)\n",
        "  scnd_embd = second_embd(w1,isPB_Block=True)\n",
        "  thrd_embd = third_embd(w1)\n",
        "  cfeat = Concatenate(axis=-1)([frst_embd, scnd_embd,thrd_embd])\n",
        "  return Model(inputs=[input_X], outputs=[cfeat],name='SRAE')\n",
        "\n",
        "\n",
        "def build_model(Categories=12, input_height=64, input_width=64, input_channels=3, using_white_norm=True, using_SE=True):\n",
        "  x1 = Input(shape=(input_height, input_width, input_channels))\n",
        "  x2 = Input(shape=(input_height, input_width, input_channels))\n",
        "  x3 = Input(shape=(input_height, input_width, input_channels))\n",
        "  ssr_model = build_ssr(Categories=Categories,input_height=input_height,input_width=input_width,input_channels=input_channels, using_white_norm=using_white_norm, using_SE=using_SE)\n",
        "\n",
        "  y1 = ssr_model(x1)\n",
        "  y2 = ssr_model(x2)\n",
        "  y3 = ssr_model(x3)\n",
        "\n",
        "  cfeat = Concatenate(axis=-1)([y1, y2,y3])\n",
        "  bulk_feat = Dense(Categories, use_bias=True, activity_regularizer=regularizers.l1(0), activation='softmax', name=\"W1\")(cfeat)\n",
        "  m = Dropout(0.2)(bulk_feat)\n",
        "  age = Dense(1, name=\"age\")(m)  \n",
        "  return Model(inputs=[x1,x2,x3], outputs=[age, bulk_feat])\n"
      ],
      "execution_count": null,
      "outputs": []
    },
    {
      "cell_type": "code",
      "metadata": {
        "id": "aEY4c0qaNip0"
      },
      "source": [
        "# backup min-data-preprocess\n",
        "\n",
        "import pandas as pd\n",
        "import numpy as np\n",
        "import cv2\n",
        "# import json # to serialize objects, so can be stored as string in pandas's feather file\n",
        "# import matplotlib.pyplot as plt\n",
        "from pathlib import Path\n",
        "import dlib\n",
        "from pose import get_rotation_angle\n",
        "\n",
        "# process it to detect faces, detect landmarks, align, & make 3 sub boxes which will be used in next step to feed into network\n",
        "# save dataset as pandas,feather & imencode for size efficiency\n",
        "\n",
        "\n",
        "def gen_boundbox(box, landmark):\n",
        "    # getting 3 boxes for face, as required in paper... i.e feed 3 different sized images to network (R,G,B) \n",
        "    xmin, ymin, xmax, ymax = box # box is [ymin, xmin, ymax, xmax]\n",
        "    w, h = xmax - xmin, ymax - ymin\n",
        "    nose_x, nose_y = (landmark.parts()[30].x, landmark.parts()[30].y) # calculating nose center point, so the triple boxes will be cropped according to nose point\n",
        "    w_h_margin = abs(w - h)\n",
        "    top2nose = nose_y - ymin\n",
        "    # Contains the smallest frame\n",
        "    return np.array([\n",
        "        [(xmin - w_h_margin, ymin - w_h_margin), (xmax + w_h_margin, ymax + w_h_margin)],  # out\n",
        "        [(nose_x - top2nose, nose_y - top2nose), (nose_x + top2nose, nose_y + top2nose)],  # middle\n",
        "        [(nose_x - w//2, nose_y - w//2), (nose_x + w//2, nose_y + w//2)]  # inner box\n",
        "    ])\n",
        "\n",
        "\n",
        "def gen_equal_boundbox(box,gap_margin=30):\n",
        "    # getting 3 boxes for face, as required in paper... i.e feed 3 different sized images to network (R,G,B) \n",
        "    xmin, ymin, xmax, ymax = box # box is [ymin, xmin, ymax, xmax]\n",
        "    w, h = xmax - xmin, ymax - ymin\n",
        "\n",
        "    percentMargin = gap_margin/100 # 30% margin\n",
        "    margin_y = int(h * percentMargin)\n",
        "    margin_x = int(h * percentMargin)\n",
        "\n",
        "    # calculating new coordinates\n",
        "    new_X =  xmin - margin_x \n",
        "    new_Y = ymin - margin_y\n",
        "    new_X2 = xmax + int(margin_x) # mutliply by 2 because x is going backwards by same value, so adding 2 times margin\n",
        "    new_Y2 = ymax + int(margin_y) # mutliply by 2 because y is going Upwards by same value\n",
        "\n",
        "    return np.array([[(xmin,ymin),(xmax,ymax)], # original box\n",
        "                    [(new_X,new_Y),(new_X2,new_Y2)]]) #  outer box\n",
        "\n",
        "\n",
        "def detect_faces_and_landmarks(image):\n",
        "  face_rect_list = detector(image)\n",
        "  img_face_count = len(face_rect_list) # number of faces found in image\n",
        "  if img_face_count < 1:\n",
        "    return 0,[],[] # no face found, so return \n",
        "\n",
        "  xmin, ymin, xmax, ymax = face_rect_list[0].left() , face_rect_list[0].top(), face_rect_list[0].right(), face_rect_list[0].bottom() # face_rect is dlib.rectangle object, so extracting values from it\n",
        "  \n",
        "  # make a landmarks_list of all faces detected in image\n",
        "  lmarks_list = dlib.full_object_detections()\n",
        "  for face_rect in face_rect_list:\n",
        "    lmarks_list.append(predictor(image, face_rect)) # getting landmarks as a list of objects\n",
        "  \n",
        "  return img_face_count,np.array([xmin, ymin, xmax, ymax]), lmarks_list\n",
        "\n",
        "def loadData_preprocessData_and_makeDataFrame():\n",
        "  properties_list = []\n",
        "\n",
        "  for index,series in dataset_meta.iterrows():\n",
        "    image_path = str(dataset_base_path.joinpath(series.imgPath)) # get image path\n",
        "    # print(image_path,type(image_path))\n",
        "    # break\n",
        "    try:\n",
        "      image = cv2.imread(image_path, cv2.IMREAD_COLOR)\n",
        "      face_count,_,lmarks_list = detect_faces_and_landmarks(image) # Detect face & landmarks\n",
        "      if face_count != 1:\n",
        "        raise Exception('face_count:',face_count,\" i.e more than 1 or no face found in image \",image_path )\n",
        "      #########################CropFace + genBox###################################\n",
        "      #extract_image_chips will crop faces from image according to size & padding and align them in upright position and return list of them\n",
        "      cropped_faces = dlib.get_face_chips(image, lmarks_list, padding=0.6)  # aligned face with padding 0.4 in papper\n",
        "      image = cropped_faces[0] # must be only 1 face, so getting it.\n",
        "      _,face_rect_box, lmarks_list = detect_faces_and_landmarks(image) # Detect face from cropped image\n",
        "      first_lmarks = lmarks_list[0] # getting first face's rectangle box and landmarks \n",
        "      double_box = gen_boundbox(face_rect_box,first_lmarks) # get 2 face boxes for nput into network, as reauired in paper\n",
        "      ####################################Save image to check #######################################\n",
        "      test_img = cropped_faces[0].copy()\n",
        "      if index % 5000 == 0:\n",
        "        cv2.imwrite('/content/saved{}_original.jpg'.format(index),test_img)\n",
        "        # for bbox in double_box:\n",
        "        #   bbox = bbox\n",
        "        #   h_min, w_min = bbox[0]\n",
        "        #   h_max, w_max = bbox[1]\n",
        "        #   cv2.rectangle(test_img, (h_min,w_min), (h_max,w_max),(255,0,0),2)\n",
        "        #   cv2.imwrite('/content/saved{}_original.jpg'.format(index),test_img)\n",
        "      ###########################################################################\n",
        "      # if (double_box < 0).any():\n",
        "      #   raise Exception('Some part of face is out of image ')\n",
        "      # face_pitch, face_yaw, face_roll = get_rotation_angle(image, first_lmarks) # gen face rotation for filtering\n",
        "    except Exception as ee:        \n",
        "      # print('index ',index,': exption ',ee)\n",
        "      # properties_list.append([np.nan,np.nan,np.nan,np.nan,np.nan,np.nan]) # add null dummy values to current row & skill this iteration\n",
        "      continue\n",
        "      \n",
        "    # everything processed succefuly, now serialize values and save them\n",
        "    status, buf = cv2.imencode(\".jpg\", image)\n",
        "    image_buffer = buf.tostring()\n",
        "    #dumping with `pickle` much faster than `json` (np.dumps is pickling)\n",
        "    face_rect_box_serialized = face_rect_box.dumps()  # [xmin, ymin, xmax, ymax] : Returns the pickle(encoding to binary format (better than json)) of the array as a string. pickle.loads or numpy.loads will convert the string back to an array\n",
        "    landmarks_list = np.array([[point.x,point.y] for point in first_lmarks.parts()]) # Same converting landmarks (face_detection_object) to array so can be converted to json\n",
        "    face_landmarks_serialized = landmarks_list.dumps()#json.dumps(landmarks_list,indent = 2)  # y1..y5, x1..x5\n",
        "    \n",
        "    # adding everything to list\n",
        "    properties_list.append([image_path,series.age,series.gender,image_buffer,face_rect_box_serialized,face_landmarks_serialized])\n",
        "    if index%500 == 0:\n",
        "      print(index,': processed and useful ',len(properties_list))\n",
        "    \n",
        "    \n",
        "    if len(properties_list) == 2000:\n",
        "      processed_dataset_df = pd.DataFrame(properties_list,columns=['image_path','age','gender','image','org_box','landmarks'])\n",
        "      processed_dataset_df = processed_dataset_df.dropna()\n",
        "      processed_dataset_df = processed_dataset_df[(processed_dataset_df.age >= 0) & (processed_dataset_df.age <= 100)]\n",
        "      save(index,processed_dataset_df)\n",
        "      print('chunk saved of size ',len(processed_dataset_df))\n",
        "      properties_list.clear()\n",
        "\n",
        "\n",
        "# save processed dataset_df to feather format\n",
        "def save(indx,Dataset_DF):\n",
        "    dataframe = Dataset_DF.reset_index()\n",
        "    dataset_base_path = Path('/content/gdrive/MyDrive/Prep-Processed-Datasets/our-preprocessed/')\n",
        "    dir_path = dataset_base_path.joinpath(dataset_name + \"_\" + str(indx) + \".feather\")\n",
        "    tmp_pd = dataframe.copy().reset_index()\n",
        "    tmp_pd.to_feather(dir_path)\n",
        "    print('succesfully saved as feather to ',dir_path)\n",
        "\n",
        "\n",
        "\n",
        "def rectify_data():\n",
        "    sample = []\n",
        "    max_nums = 500.0\n",
        "    for x in range(100):\n",
        "        age_set = Dataset_DF[Dataset_DF.age == x]\n",
        "        cur_age_num = len(age_set)\n",
        "        if cur_age_num > max_nums:\n",
        "            age_set = age_set.sample(frac=max_nums / cur_age_num, random_state=2007)\n",
        "        sample.append(age_set)\n",
        "    Dataset_DF = pd.concat(sample, ignore_index=True)\n",
        "    Dataset_DF.age = Dataset_DF.age \n",
        "    print(Dataset_DF.groupby([\"age\", \"gender\"]).agg([\"count\"]))\n",
        "\n",
        "################################## GLOBAL PARAMS ##############################################\n",
        "#initiate face detector and predictor\n",
        "detector = dlib.get_frontal_face_detector()\n",
        "predictor = dlib.shape_predictor(\"/content/RP/detect/shape_predictor_68_face_landmarks.dat\")\n",
        "\n",
        "# creating dummy DF, later will process all images to make it real df\n",
        "Dataset_DF = pd.DataFrame(columns=[\"age\", \"gender\", \"image\", \"org_box\", \"trible_box\", \"landmarks\"])\n",
        "\n",
        "# define all parameters here\n",
        "dataset_base_path = Path('/content/RP/dataset/')\n",
        "dataset_name = 'mine-data'\n",
        "dataset_meta = pd.read_csv('/content/RP/dataset/Dataset/dataset-meta.csv')\n",
        "# dataset_meta = dataset_meta[0:5000]\n",
        "extra_padding = 0.55\n",
        "\n",
        "if __name__ == \"__main__\":\n",
        "\n",
        "    # init_dataset_meta_csv() # convert meta.mat to meta.csv\n",
        "    loadData_preprocessData_and_makeDataFrame()\n",
        "    # save() # save preprocessed dataset as .feather in  dataset_directory_path\n"
      ],
      "execution_count": null,
      "outputs": []
    }
  ]
}