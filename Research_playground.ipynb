{
  "nbformat": 4,
  "nbformat_minor": 0,
  "metadata": {
    "accelerator": "GPU",
    "colab": {
      "name": "Research-playground.ipynb",
      "provenance": [],
      "collapsed_sections": [
        "UGXaY-9_Yegx",
        "oQShNmd-Ub-w",
        "W2vpu5ijT-09",
        "WLxMbzhhabjC",
        "x7uRhLSGtBBd",
        "IJsY3kXmeZGE",
        "a-CBhEZPUgxh"
      ],
      "toc_visible": true,
      "authorship_tag": "ABX9TyNlJXMyBv56AaB9JSnFWmFD",
      "include_colab_link": true
    },
    "kernelspec": {
      "display_name": "Python 3",
      "name": "python3"
    }
  },
  "cells": [
    {
      "cell_type": "markdown",
      "metadata": {
        "id": "view-in-github",
        "colab_type": "text"
      },
      "source": [
        "<a href=\"https://colab.research.google.com/github/KhizarAziz/RP/blob/master/Research_playground.ipynb\" target=\"_parent\"><img src=\"https://colab.research.google.com/assets/colab-badge.svg\" alt=\"Open In Colab\"/></a>"
      ]
    },
    {
      "cell_type": "code",
      "metadata": {
        "id": "ooBWthjcla3r",
        "colab": {
          "base_uri": "https://localhost:8080/"
        },
        "outputId": "182da691-3631-4240-a882-682a68183705"
      },
      "source": [
        "from google.colab import drive\n",
        "drive.mount('/content/gdrive', force_remount=True)\n",
        "root_dir = \"/content/gdrive/My Drive/\"\n",
        "base_dir = root_dir + '0dev_folder/Data/'\n",
        "colab_base_dir = '/content/'"
      ],
      "execution_count": 3,
      "outputs": [
        {
          "output_type": "stream",
          "text": [
            "Mounted at /content/gdrive\n"
          ],
          "name": "stdout"
        }
      ]
    },
    {
      "cell_type": "code",
      "metadata": {
        "id": "hqckXphuDvLL"
      },
      "source": [
        "import numpy as np\n",
        "import pandas as pd\n",
        "import cv2\n",
        "import matplotlib.pyplot as plt\n",
        "import shutil\n",
        "import os\n",
        "import dlib\n",
        "from pathlib import Path\n",
        "import feather\n",
        "# from m_preprocess_dataset.pose import get_rotation_angle\n",
        "import pickle\n",
        "# import fastai.vision"
      ],
      "execution_count": 4,
      "outputs": []
    },
    {
      "cell_type": "markdown",
      "metadata": {
        "id": "x-1HAsAWLjDd"
      },
      "source": [
        "# **Test Our-Dataset Accuracy (Professor demand)**"
      ]
    },
    {
      "cell_type": "code",
      "metadata": {
        "id": "VA-LaY11a43_"
      },
      "source": [
        "import tensorflow as tf\n",
        "import keras"
      ],
      "execution_count": 13,
      "outputs": []
    },
    {
      "cell_type": "code",
      "metadata": {
        "id": "DiPND4yQaDeU"
      },
      "source": [
        "!wget https://api.wandb.ai/files/khizerawan/rp/m4zt9kbr/model-best.h5 -O morph.h5\n",
        "!wget https://api.wandb.ai/files/khizerawan/rp/1nd8usm5/model-best.h5 -O fgnet.h5\n",
        "!wget https://api.wandb.ai/files/khizerawan/rp/2iw9pbaf/model-best.h5 -O imdb.h5\n",
        "!wget https://api.wandb.ai/files/khizerawan/rp/2m519r18/model-best.h5 -O our.h5"
      ],
      "execution_count": null,
      "outputs": []
    },
    {
      "cell_type": "markdown",
      "metadata": {
        "id": "Ee59bZINmiJ6"
      },
      "source": [
        "\n",
        "\n",
        "> ## **`Inference`**\n",
        "\n",
        "\n",
        "\n",
        "\n"
      ]
    },
    {
      "cell_type": "code",
      "metadata": {
        "id": "nuKqyYEHf3T7"
      },
      "source": [
        "!git clone https://github.com/KhizarAziz/RP.git"
      ],
      "execution_count": null,
      "outputs": []
    },
    {
      "cell_type": "code",
      "metadata": {
        "id": "iGmXx3s9gEyx"
      },
      "source": [
        "import dlib\n",
        "import cv2\n",
        "import numpy as np\n",
        "import matplotlib.pyplot as plt "
      ],
      "execution_count": 31,
      "outputs": []
    },
    {
      "cell_type": "code",
      "metadata": {
        "id": "a03aPpVhoOKh"
      },
      "source": [
        "detector = dlib.cnn_face_detection_model_v1('/content/RP/detect/mmod_human_face_detector.dat')\n",
        "predictor = dlib.shape_predictor(\"/content/RP/detect/shape_predictor_68_face_landmarks.dat\")\n",
        "\n",
        "def detect_faces_and_landmarks(image):\n",
        "  face_rect_list = detector(image)\n",
        "  img_face_count = len(face_rect_list) # number of faces found in image\n",
        "  if img_face_count < 1:\n",
        "    return 0,[],[] # no face found, so return \n",
        "\n",
        "  xmin, ymin, xmax, ymax = face_rect_list[0].rect.left() , face_rect_list[0].rect.top(), face_rect_list[0].rect.right(), face_rect_list[0].rect.bottom() # face_rect is dlib.rectangle object, so extracting values from it\n",
        "  \n",
        "  # make a landmarks_list of all faces detected in image\n",
        "  lmarks_list = dlib.full_object_detections()\n",
        "  for face_rect in face_rect_list:\n",
        "    lmarks_list.append(predictor(image, face_rect.rect)) # getting landmarks as a list of objects\n",
        "  \n",
        "  return img_face_count,np.array([xmin, ymin, xmax, ymax]), lmarks_list\n",
        "\n",
        "\n",
        "########################### 3 face generator by pose aware cropper\n",
        "def get_margin_right_left(landmarks,gap_margin):\n",
        "  total_distance,nose_to_left = landmarks[16][0]-landmarks[0][0], landmarks[30][0] - landmarks[0][0]\n",
        "  percent_left = nose_to_left*100/total_distance\n",
        "  left_margin = round(gap_margin * percent_left/100)\n",
        "  right_margin = gap_margin-left_margin\n",
        "  if gap_margin < 0: # nagtive margin means inner-outer\n",
        "    return right_margin,left_margin\n",
        "  else: # positive or 0 margine means outer-inner\n",
        "    return left_margin,right_margin \n",
        "\n",
        "def get_margin_up_down_split(gap_margin,down_split=0.3):\n",
        "  # calculate margin values for up & down side.\n",
        "  down_margin = round(gap_margin * down_split)\n",
        "  up_margin = gap_margin-down_margin\n",
        "  return up_margin,down_margin\n",
        "\n",
        "\n",
        "def evaluate_face_box(x1,y1,x2,y2,landmarks, force_align =False):\n",
        "  left_lm = landmarks[17][0] # left side of face\n",
        "  right_lm = landmarks[26][0] # right side of face\n",
        "  top_lm = landmarks[24][1] # top side of face\n",
        "  down_lm = landmarks[57][1] # bottom side of face\n",
        "  if (left_lm < x1) or (right_lm > x2) or force_align:\n",
        "    avg_offset_h = int (((x1 - left_lm) + (x2 - right_lm))/2)\n",
        "    x1 -= avg_offset_h\n",
        "    x2 -= avg_offset_h\n",
        "  if (top_lm < y1) or (down_lm > y2) or force_align:\n",
        "    avg_offset_v = int (((y1 - top_lm) + (y2 - down_lm))/2)\n",
        "    y1 -= avg_offset_v\n",
        "    y2 -= avg_offset_v\n",
        "  return x1,y1,x2,y2\n",
        "\n",
        "def gen_triple_face_box(box,landmarks,percent_margin=10):\n",
        "  xmin, ymin, xmax, ymax = box \n",
        "  h = xmax - xmin\n",
        "  gap_margin = round(h * percent_margin/100)\n",
        "  left_margin,right_margin = get_margin_right_left(landmarks,gap_margin)\n",
        "  if right_margin != 0:\n",
        "    if 0.66 < left_margin/right_margin < 1.55:\n",
        "      xmin, ymin, xmax, ymax = evaluate_face_box(xmin, ymin, xmax, ymax, landmarks,force_align=True) \n",
        "    else:\n",
        "      xmin, ymin, xmax, ymax = xmin-5, ymin-5, xmax+5, ymax+5\n",
        "  box_array = [[(xmin,ymin),(xmax,ymax)]]\n",
        "  \n",
        "  # middle box\n",
        "  left_margin,right_margin = get_margin_right_left(landmarks,gap_margin) # calculate gap_margin right and left\n",
        "  up_margin , down_margin  = get_margin_up_down_split(gap_margin)\n",
        "  new_X =  int(xmin - left_margin)\n",
        "  new_Y = int(ymin - up_margin)\n",
        "  new_X2 = int(xmax + right_margin)\n",
        "  new_Y2 = int(ymax + down_margin)\n",
        "  new_X,new_Y,new_X2,new_Y2 = evaluate_face_box(new_X,new_Y,new_X2,new_Y2,landmarks,force_align=True)\n",
        "  box_array.append([(new_X,new_Y),(new_X2,new_Y2)])\n",
        "  # outer box\n",
        "  gap_margin = gap_margin*-1.3 # because 3rd box will be further outside\n",
        "  left_margin,right_margin = get_margin_right_left(landmarks,gap_margin) # calculate gap_margin right and left\n",
        "  up_margin , down_margin  = get_margin_up_down_split(gap_margin)\n",
        "  new_X = int(xmin - left_margin)\n",
        "  new_Y = int(ymin - up_margin)\n",
        "  new_X2 =int(xmax + right_margin)\n",
        "  new_Y2 =int(ymax + down_margin)\n",
        "  new_X,new_Y,new_X2,new_Y2 = evaluate_face_box(new_X,new_Y,new_X2,new_Y2,landmarks)\n",
        "  box_array.append([(new_X,new_Y),(new_X2,new_Y2)])\n",
        "  return np.array(box_array)\n"
      ],
      "execution_count": 28,
      "outputs": []
    },
    {
      "cell_type": "code",
      "metadata": {
        "id": "Um60VY96mkLj"
      },
      "source": [
        "img = cv2.imread('/content/landmarks2.png')\n",
        "# load model weights\n",
        "model = keras.models.load_model('fgnet.h5', custom_objects={'tf': tf})"
      ],
      "execution_count": null,
      "outputs": []
    },
    {
      "cell_type": "code",
      "metadata": {
        "id": "4_7IUVSOjzSJ"
      },
      "source": [
        "try:\n",
        "    face_count, bounds, lmarks = detect_faces_and_landmarks(img)\n",
        "except Exception as e:\n",
        "  print(e)"
      ],
      "execution_count": 32,
      "outputs": []
    },
    {
      "cell_type": "code",
      "metadata": {
        "id": "UqMvA2s4n2xP"
      },
      "source": [
        "padding = 200\n",
        "cv2.copyMakeBorder(img, padding, padding, padding, padding, cv2.BORDER_CONSTANT)"
      ],
      "execution_count": null,
      "outputs": []
    },
    {
      "cell_type": "code",
      "metadata": {
        "id": "sGw3Ubc0qenf",
        "colab": {
          "base_uri": "https://localhost:8080/",
          "height": 232
        },
        "outputId": "91dd98fb-ed01-4c32-ca3d-c35300e86118"
      },
      "source": [
        "for pidx,landmarks in enumerate(lmarks):\n",
        "    trible_box = gen_triple_face_box(box,landmarks,percent_margin=10)#gen_boundbox(bounds, landmarks)\n",
        "    tri_imgs = []\n",
        "    for bbox in trible_box:\n",
        "        bbox = bbox #+ padding\n",
        "        h_min, w_min = bbox[0]\n",
        "        h_max, w_max = bbox[1]\n",
        "        tri_imgs.append(cv2.resize(new_bd_img[w_min:w_max, h_min:h_max], (64, 64)))\n",
        "    print(np.array(tri_imgs).shape)"
      ],
      "execution_count": 40,
      "outputs": [
        {
          "output_type": "error",
          "ename": "NameError",
          "evalue": "ignored",
          "traceback": [
            "\u001b[0;31m---------------------------------------------------------------------------\u001b[0m",
            "\u001b[0;31mNameError\u001b[0m                                 Traceback (most recent call last)",
            "\u001b[0;32m<ipython-input-40-d566733e72c3>\u001b[0m in \u001b[0;36m<module>\u001b[0;34m()\u001b[0m\n\u001b[1;32m      1\u001b[0m \u001b[0;32mfor\u001b[0m \u001b[0mpidx\u001b[0m\u001b[0;34m,\u001b[0m\u001b[0mlandmarks\u001b[0m \u001b[0;32min\u001b[0m \u001b[0menumerate\u001b[0m\u001b[0;34m(\u001b[0m\u001b[0mlmarks\u001b[0m\u001b[0;34m)\u001b[0m\u001b[0;34m:\u001b[0m\u001b[0;34m\u001b[0m\u001b[0;34m\u001b[0m\u001b[0m\n\u001b[0;32m----> 2\u001b[0;31m     \u001b[0mtrible_box\u001b[0m \u001b[0;34m=\u001b[0m \u001b[0mgen_boundbox\u001b[0m\u001b[0;34m(\u001b[0m\u001b[0mbounds\u001b[0m\u001b[0;34m,\u001b[0m \u001b[0mlandmarks\u001b[0m\u001b[0;34m)\u001b[0m\u001b[0;34m\u001b[0m\u001b[0;34m\u001b[0m\u001b[0m\n\u001b[0m\u001b[1;32m      3\u001b[0m     \u001b[0mtri_imgs\u001b[0m \u001b[0;34m=\u001b[0m \u001b[0;34m[\u001b[0m\u001b[0;34m]\u001b[0m\u001b[0;34m\u001b[0m\u001b[0;34m\u001b[0m\u001b[0m\n\u001b[1;32m      4\u001b[0m     \u001b[0;32mfor\u001b[0m \u001b[0mbbox\u001b[0m \u001b[0;32min\u001b[0m \u001b[0mtrible_box\u001b[0m\u001b[0;34m:\u001b[0m\u001b[0;34m\u001b[0m\u001b[0;34m\u001b[0m\u001b[0m\n\u001b[1;32m      5\u001b[0m         \u001b[0mbbox\u001b[0m \u001b[0;34m=\u001b[0m \u001b[0mbbox\u001b[0m \u001b[0;31m#+ padding\u001b[0m\u001b[0;34m\u001b[0m\u001b[0;34m\u001b[0m\u001b[0m\n",
            "\u001b[0;31mNameError\u001b[0m: name 'gen_boundbox' is not defined"
          ]
        }
      ]
    },
    {
      "cell_type": "code",
      "metadata": {
        "id": "kk51n4GP9eW7"
      },
      "source": [
        "testing_imgs = []\n",
        "for img in tri_imgs:\n",
        "  new_img = np.expand_dims(img,axis=0)\n",
        "  testing_imgs.append(new_img)"
      ],
      "execution_count": null,
      "outputs": []
    },
    {
      "cell_type": "code",
      "metadata": {
        "id": "6uFSLGqcsRW4"
      },
      "source": [
        "result = models.predict(testing_imgs)"
      ],
      "execution_count": null,
      "outputs": []
    },
    {
      "cell_type": "code",
      "metadata": {
        "id": "mVBYlz4m2ON-"
      },
      "source": [
        "result"
      ],
      "execution_count": null,
      "outputs": []
    },
    {
      "cell_type": "code",
      "metadata": {
        "id": "tazYWqvB1DbF"
      },
      "source": [
        "img = tri_imgs[0]"
      ],
      "execution_count": null,
      "outputs": []
    },
    {
      "cell_type": "code",
      "metadata": {
        "id": "HuP7CQ551FrU"
      },
      "source": [
        "a = np.expand_dims(img,axis=0)"
      ],
      "execution_count": null,
      "outputs": []
    },
    {
      "cell_type": "code",
      "metadata": {
        "id": "JImUh3Rx2VUx"
      },
      "source": [
        "1.0071468e-01"
      ],
      "execution_count": null,
      "outputs": []
    },
    {
      "cell_type": "code",
      "metadata": {
        "id": "9kjoIrx7USSo"
      },
      "source": [
        "#preprocess wiki data for inference\n",
        "#model.predict of other type of inference way all wiki images"
      ],
      "execution_count": 100,
      "outputs": []
    },
    {
      "cell_type": "code",
      "metadata": {
        "id": "3mpEplbQaW8W"
      },
      "source": [
        ""
      ],
      "execution_count": null,
      "outputs": []
    },
    {
      "cell_type": "code",
      "metadata": {
        "id": "lv7HW3zNM46S"
      },
      "source": [
        "filename = '/content/gdrive/MyDrive/Final_Dataset/3.tar.gz'\n",
        "csv_path = '/content/gdrive/MyDrive/Final_Dataset/dataset-meta.csv'"
      ],
      "execution_count": 79,
      "outputs": []
    },
    {
      "cell_type": "code",
      "metadata": {
        "colab": {
          "base_uri": "https://localhost:8080/"
        },
        "id": "4WyFGSpRMV_I",
        "outputId": "1d5c7cf2-d06d-4233-f914-87f32f411b7c"
      },
      "source": [
        "new_path = shutil.copy(filename,'/content/')\n",
        "print('copied file',new_path)\n",
        "shutil.unpack_archive(new_path,'/content/RP/dataset/Dataset/')\n",
        "# shutil.copy(csv_path,'/content/RP/dataset/Dataset/dataset-meta.csv')"
      ],
      "execution_count": 80,
      "outputs": [
        {
          "output_type": "stream",
          "text": [
            "copied file /content/3.tar.gz\n"
          ],
          "name": "stdout"
        }
      ]
    },
    {
      "cell_type": "code",
      "metadata": {
        "id": "h7yCkVRDNejT"
      },
      "source": [
        "df = pd.read_csv('/content/RP/dataset/Dataset/dataset-meta.csv')\n",
        "df = df[df['imgPath'].str.contains('Dataset/3/')]\n",
        "df['imgPath'] = '/content/RP/dataset/'+df['imgPath']"
      ],
      "execution_count": 81,
      "outputs": []
    },
    {
      "cell_type": "code",
      "metadata": {
        "colab": {
          "base_uri": "https://localhost:8080/",
          "height": 204
        },
        "id": "wg81k384Or6P",
        "outputId": "ecc37c00-ca18-4492-e97d-8577b751a15e"
      },
      "source": [
        "df.head()"
      ],
      "execution_count": 82,
      "outputs": [
        {
          "output_type": "execute_result",
          "data": {
            "text/html": [
              "<div>\n",
              "<style scoped>\n",
              "    .dataframe tbody tr th:only-of-type {\n",
              "        vertical-align: middle;\n",
              "    }\n",
              "\n",
              "    .dataframe tbody tr th {\n",
              "        vertical-align: top;\n",
              "    }\n",
              "\n",
              "    .dataframe thead th {\n",
              "        text-align: right;\n",
              "    }\n",
              "</style>\n",
              "<table border=\"1\" class=\"dataframe\">\n",
              "  <thead>\n",
              "    <tr style=\"text-align: right;\">\n",
              "      <th></th>\n",
              "      <th>nconst</th>\n",
              "      <th>age</th>\n",
              "      <th>gender</th>\n",
              "      <th>country</th>\n",
              "      <th>imageName</th>\n",
              "      <th>imgPath</th>\n",
              "    </tr>\n",
              "  </thead>\n",
              "  <tbody>\n",
              "    <tr>\n",
              "      <th>1274208</th>\n",
              "      <td>nm0171583</td>\n",
              "      <td>68</td>\n",
              "      <td>F</td>\n",
              "      <td>Fajardo, Puerto Rico</td>\n",
              "      <td>epb359.jpg</td>\n",
              "      <td>/content/RP/dataset/Dataset/3/nm0171583/epb359...</td>\n",
              "    </tr>\n",
              "    <tr>\n",
              "      <th>1274209</th>\n",
              "      <td>nm0171583</td>\n",
              "      <td>71</td>\n",
              "      <td>F</td>\n",
              "      <td>Fajardo, Puerto Rico</td>\n",
              "      <td>r0hnt6.jpg</td>\n",
              "      <td>/content/RP/dataset/Dataset/3/nm0171583/r0hnt6...</td>\n",
              "    </tr>\n",
              "    <tr>\n",
              "      <th>1274210</th>\n",
              "      <td>nm0171583</td>\n",
              "      <td>67</td>\n",
              "      <td>F</td>\n",
              "      <td>Fajardo, Puerto Rico</td>\n",
              "      <td>e0kft1.jpg</td>\n",
              "      <td>/content/RP/dataset/Dataset/3/nm0171583/e0kft1...</td>\n",
              "    </tr>\n",
              "    <tr>\n",
              "      <th>1274211</th>\n",
              "      <td>nm0171583</td>\n",
              "      <td>67</td>\n",
              "      <td>F</td>\n",
              "      <td>Fajardo, Puerto Rico</td>\n",
              "      <td>e0kgy3.jpg</td>\n",
              "      <td>/content/RP/dataset/Dataset/3/nm0171583/e0kgy3...</td>\n",
              "    </tr>\n",
              "    <tr>\n",
              "      <th>1274212</th>\n",
              "      <td>nm0171583</td>\n",
              "      <td>68</td>\n",
              "      <td>F</td>\n",
              "      <td>Fajardo, Puerto Rico</td>\n",
              "      <td>ep7gj5.jpg</td>\n",
              "      <td>/content/RP/dataset/Dataset/3/nm0171583/ep7gj5...</td>\n",
              "    </tr>\n",
              "  </tbody>\n",
              "</table>\n",
              "</div>"
            ],
            "text/plain": [
              "            nconst  ...                                            imgPath\n",
              "1274208  nm0171583  ...  /content/RP/dataset/Dataset/3/nm0171583/epb359...\n",
              "1274209  nm0171583  ...  /content/RP/dataset/Dataset/3/nm0171583/r0hnt6...\n",
              "1274210  nm0171583  ...  /content/RP/dataset/Dataset/3/nm0171583/e0kft1...\n",
              "1274211  nm0171583  ...  /content/RP/dataset/Dataset/3/nm0171583/e0kgy3...\n",
              "1274212  nm0171583  ...  /content/RP/dataset/Dataset/3/nm0171583/ep7gj5...\n",
              "\n",
              "[5 rows x 6 columns]"
            ]
          },
          "metadata": {
            "tags": []
          },
          "execution_count": 82
        }
      ]
    },
    {
      "cell_type": "code",
      "metadata": {
        "id": "3nnI6k4gXWlX"
      },
      "source": [
        "index += 15\n",
        "print(df['age'].iloc[index])\n",
        "img = df['imgPath'].iloc[index]\n",
        "plt.imshow(cv2.imread(img))"
      ],
      "execution_count": null,
      "outputs": []
    },
    {
      "cell_type": "code",
      "metadata": {
        "id": "0rlz9rHPPR15"
      },
      "source": [
        "obj = DeepFace.analyze(img_path = img, actions = ['age', 'gender'])\n",
        "print(obj[\"age\"],\" years old  \", obj[\"gender\"])"
      ],
      "execution_count": null,
      "outputs": []
    },
    {
      "cell_type": "code",
      "metadata": {
        "id": "OzXNLUYgUp6Z"
      },
      "source": [
        "agender = PyAgender()\n",
        "faces = agender.detect_genders_ages(cv2.imread(img))\n",
        "print(faces)"
      ],
      "execution_count": null,
      "outputs": []
    },
    {
      "cell_type": "code",
      "metadata": {
        "id": "dPuEeKXOR0p2"
      },
      "source": [
        "#delete broughted data\n",
        "shutil.rmtree('/content/RP/dataset/Dataset/8')"
      ],
      "execution_count": 78,
      "outputs": []
    },
    {
      "cell_type": "markdown",
      "metadata": {
        "id": "UGXaY-9_Yegx"
      },
      "source": [
        "# **Setup Dataset**"
      ]
    },
    {
      "cell_type": "code",
      "metadata": {
        "id": "MUdDycPUBrAL"
      },
      "source": [
        "!git clone https://github.com/KhizarAziz/RP.git #clone repo"
      ],
      "execution_count": null,
      "outputs": []
    },
    {
      "cell_type": "code",
      "metadata": {
        "id": "Yx5U3M-vDMgD"
      },
      "source": [
        "import shutil\n",
        "#WIKI\n",
        "# shutil.copy('/content/gdrive/My Drive/0dev_folder/Previous Datasets/wiki_crop.tar', '/content/')\n",
        "# IMDB\n",
        "shutil.copy('/content/gdrive/My Drive/0dev_folder/Previous Datasets/imdb_crop.tar', '/content/')\n",
        "# morph\n",
        "# shutil.copy('/content/gdrive/My Drive/0dev_folder/Previous Datasets/Morph.tar', '/content/')"
      ],
      "execution_count": null,
      "outputs": []
    },
    {
      "cell_type": "code",
      "metadata": {
        "id": "0H-Y0HPDDMgE"
      },
      "source": [
        "cd /content/"
      ],
      "execution_count": null,
      "outputs": []
    },
    {
      "cell_type": "code",
      "metadata": {
        "id": "WauaiaHwDMgF"
      },
      "source": [
        "#extract datasets\n",
        "!tar -xvf imdb_crop.tar -C /content/RP/dataset\n",
        "# !tar -xvf wiki_crop.tar -C /content/RP/dataset\n",
        "# morph data\n",
        "# !tar -xvf Morph.tar -C /content/RP/dataset"
      ],
      "execution_count": null,
      "outputs": []
    },
    {
      "cell_type": "code",
      "metadata": {
        "colab": {
          "base_uri": "https://localhost:8080/"
        },
        "id": "UV8SazL4Iitv",
        "outputId": "4062d741-248b-436f-beec-cfc0e3551d3b"
      },
      "source": [
        "cd /content/RP/"
      ],
      "execution_count": null,
      "outputs": [
        {
          "output_type": "stream",
          "text": [
            "/content/RP\n"
          ],
          "name": "stdout"
        }
      ]
    },
    {
      "cell_type": "code",
      "metadata": {
        "colab": {
          "base_uri": "https://localhost:8080/",
          "height": 283
        },
        "id": "gb-frPF2KeBS",
        "outputId": "17eeea3e-3a1c-4fce-eb8c-cf0dc0020ba5"
      },
      "source": [
        "plt.imshow(cv2.imread('/content/RP/dataset/imdb_crop/02/nm0000002_rm3224279040_1924-9-16_2005.jpg'))"
      ],
      "execution_count": null,
      "outputs": [
        {
          "output_type": "execute_result",
          "data": {
            "text/plain": [
              "<matplotlib.image.AxesImage at 0x7fc33b6512e8>"
            ]
          },
          "metadata": {
            "tags": []
          },
          "execution_count": 10
        },
        {
          "output_type": "display_data",
          "data": {
            "image/png": "[encoded data removed]",
            "text/plain": [
              "<Figure size 432x288 with 1 Axes>"
            ]
          },
          "metadata": {
            "tags": []
          }
        }
      ]
    },
    {
      "cell_type": "code",
      "metadata": {
        "id": "8nTHmnm6Nki5"
      },
      "source": [
        "#Wiki-IDMB\n",
        "!python /content/RP/m_preprocess_dataset/pre_process_WIKI-IMDB.py\n",
        "#Morph\n",
        "# !python /content/RP/m_preprocess_dataset/pre_process_Morph.py"
      ],
      "execution_count": null,
      "outputs": []
    },
    {
      "cell_type": "code",
      "metadata": {
        "id": "PHgfZZL6GB2T"
      },
      "source": [
        "p = Path('/content')\n",
        "for f in p.glob('*.jpg'):\n",
        "  os.remove(f)"
      ],
      "execution_count": null,
      "outputs": []
    },
    {
      "cell_type": "markdown",
      "metadata": {
        "id": "oQShNmd-Ub-w"
      },
      "source": [
        "# **PlayGround**"
      ]
    },
    {
      "cell_type": "code",
      "metadata": {
        "colab": {
          "base_uri": "https://localhost:8080/"
        },
        "id": "zSKwMJRDBrAM",
        "outputId": "e54c757d-4329-4ff3-c2d3-fa79972c1001"
      },
      "source": [
        "cd /content/RP"
      ],
      "execution_count": null,
      "outputs": [
        {
          "output_type": "stream",
          "text": [
            "/content/RP\n"
          ],
          "name": "stdout"
        }
      ]
    },
    {
      "cell_type": "code",
      "metadata": {
        "id": "aILowufdBrAM"
      },
      "source": [
        "import math\n",
        "from m_net_training import C3AE_net\n",
        "from m_net_training import training_utils\n",
        "# from m_net_training.training_utils import CyclicLR\n",
        "import feather\n",
        "from sklearn.model_selection import train_test_split\n",
        "from keras.optimizers import Adam\n",
        "from keras.callbacks import ModelCheckpoint,TensorBoard,ReduceLROnPlateau\n",
        "from keras.losses import kl_divergence,mae,binary_crossentropy\n",
        "from keras.metrics import mae,Accuracy\n",
        "import tensorflow as tf"
      ],
      "execution_count": null,
      "outputs": []
    },
    {
      "cell_type": "code",
      "metadata": {
        "id": "D2OgJDB3BrAM"
      },
      "source": [
        "# initializing params\n",
        "# log_dir = './logs'\n",
        "r_factor = 2\n",
        "category = 10\n",
        "dropout = 0.2\n",
        "train_split = 0.8\n",
        "test_split = round(1 - train_split,2)\n",
        "seed = 2019\n",
        "category = category + 2\n",
        "interval = 10#int(math.ceil(100. / category))"
      ],
      "execution_count": null,
      "outputs": []
    },
    {
      "cell_type": "code",
      "metadata": {
        "colab": {
          "base_uri": "https://localhost:8080/"
        },
        "id": "yjoLhW5TBrAM",
        "outputId": "5254a3c6-1c51-4716-f388-4afc739a44ec"
      },
      "source": [
        "# Loading dataset (from .feather file)\n",
        "dataset_dir = Path('/content/gdrive/MyDrive/Prep-Processed-Datasets/imdb-preprocessed')\n",
        "dataset_df = pd.DataFrame(columns=[\"image_path\",\"age\", \"gender\", \"image\", \"org_box\", \"landmarks\"])\n",
        "for fnames in dataset_dir.glob('*.feather'):\n",
        "  #ashutil.copy(fnames,'/content/gdrive/MyDrive/Prep-Processed-Datasets/own-data-preprocessed/')\n",
        "  df_chunk = feather.read_dataframe(dataset_dir.joinpath(fnames))\n",
        "  dataset_df = pd.concat([dataset_df,df_chunk],ignore_index=True)\n",
        "dataset_df = dataset_df.astype({'age': 'float64'})\n",
        "dataset_df.shape"
      ],
      "execution_count": null,
      "outputs": [
        {
          "output_type": "execute_result",
          "data": {
            "text/plain": [
              "(121420, 12)"
            ]
          },
          "metadata": {
            "tags": []
          },
          "execution_count": 26
        }
      ]
    },
    {
      "cell_type": "code",
      "metadata": {
        "id": "Fhtfmuj7BrAN"
      },
      "source": [
        "#validation split using sklearn.model_selection's train_test_split method\n",
        "trainset, testset = train_test_split(dataset_df, train_size=train_split, test_size=test_split, random_state=seed)"
      ],
      "execution_count": null,
      "outputs": []
    },
    {
      "cell_type": "code",
      "metadata": {
        "id": "o4BnnadjBrAN"
      },
      "source": [
        "import imp\n",
        "imp.reload(training_utils)\n",
        "#making a generator for image and dataset. inside generator we \n",
        "#load img, crop faces (3 sizes -> big,middle,small) then tranform (if aumentation is true) rotate,birhgt etc ect\n",
        "#convert age into 2 point represenation (like on hot encoding, but has fractions)\n",
        "input_shape = (64,64)\n",
        "crop_margin = -20\n",
        "pose_aware_cropper = True\n",
        "batch_size = 32\n",
        "random_erasing = False\n",
        "random_enforcing = False\n",
        "train_gen =     training_utils.img_and_age_data_generator(trainset,batch_size=batch_size,category=category,interval=interval,imgs_shape=input_shape,random_erasing=random_erasing,random_enforcing=random_enforcing,dropout=dropout,pose_aware_cropper=pose_aware_cropper,gap_margin=crop_margin)\n",
        "validation_gen = training_utils.img_and_age_data_generator(testset,batch_size=batch_size,category=category,interval=interval,imgs_shape=input_shape,random_erasing=False,random_enforcing=False,dropout=0.0,pose_aware_cropper=pose_aware_cropper,gap_margin=crop_margin)\n",
        "# print(trainset.groupby([\"age\"])[\"age\"].agg(\"count\"))"
      ],
      "execution_count": null,
      "outputs": []
    },
    {
      "cell_type": "code",
      "metadata": {
        "colab": {
          "base_uri": "https://localhost:8080/"
        },
        "id": "5THTg-cVBrAN",
        "outputId": "ed1a46a3-3bea-4c59-8381-04e583a63602"
      },
      "source": [
        "index = 3\n",
        "first_batch = next(iter(train_gen))\n",
        "print(type(first_batch[1][0]),type(first_batch[1][1]))  # 2nd item -> 2nd item -> 1st item :::: (because i know this hierarchy)"
      ],
      "execution_count": null,
      "outputs": [
        {
          "output_type": "stream",
          "text": [
            "<class 'numpy.ndarray'> <class 'numpy.ndarray'>\n"
          ],
          "name": "stdout"
        },
        {
          "output_type": "stream",
          "text": [
            "/content/RP/m_net_training/training_utils.py:286: VisibleDeprecationWarning: Creating an ndarray from ragged nested sequences (which is a list-or-tuple of lists-or-tuples-or ndarrays with different lengths or shapes) is deprecated. If you meant to do this, you must specify 'dtype=object' when creating the ndarray\n",
            "  flag = random.randint(0, 3)\n"
          ],
          "name": "stderr"
        }
      ]
    },
    {
      "cell_type": "code",
      "metadata": {
        "colab": {
          "background_save": true,
          "base_uri": "https://localhost:8080/"
        },
        "id": "4lyqCSXDBrAN",
        "outputId": "c626688d-a954-4f46-b6b9-17a455b9e408"
      },
      "source": [
        "# train on old datset, and see if accruacy is same\n",
        "index += 1\n",
        "Accepted_List = [first_batch[0][0][index],first_batch[0][1][index],first_batch[0][2][index]] # list of [image_path,age]\n",
        "print(first_batch[1][0][index])\n",
        "f,axarr = plt.subplots(nrows=1,ncols=3,figsize=(10,10))\n",
        "a = []\n",
        "for i in range(3):\n",
        "    img = Accepted_List[i]\n",
        "    # axarr[i].set_title(str(Accepted_List[i].shape),fontsize = 20)\n",
        "    a.append(img)\n",
        "    axarr[i].imshow(img)\n",
        "# f.savefig('/content/test.jpg')\n",
        "cv2.imwrite(f'/content/Demo_Cropper/{index}_Equal_Gen.jpg',a[1])\n",
        "cv2.imwrite(f'/content/Demo_Cropper/{index}_Intl_Gen.jpg',a[2])"
      ],
      "execution_count": null,
      "outputs": [
        {
          "output_type": "stream",
          "text": [
            "21.0\n"
          ],
          "name": "stdout"
        },
        {
          "output_type": "execute_result",
          "data": {
            "text/plain": [
              "True"
            ]
          },
          "metadata": {
            "tags": []
          },
          "execution_count": 0
        },
        {
          "output_type": "display_data",
          "data": {
            "image/png": "[encoded data removed]",
            "text/plain": [
              "<Figure size 720x720 with 3 Axes>"
            ]
          },
          "metadata": {
            "tags": []
          }
        }
      ]
    },
    {
      "cell_type": "code",
      "metadata": {
        "id": "9f1CV92rCmAD"
      },
      "source": [
        "p = Path('/content')\n",
        "for f in p.glob('*.jpg'):\n",
        "  os.remove(f)"
      ],
      "execution_count": null,
      "outputs": []
    },
    {
      "cell_type": "code",
      "metadata": {
        "colab": {
          "base_uri": "https://localhost:8080/",
          "height": 126
        },
        "id": "_99KGz80029y",
        "outputId": "b923049f-b886-4efc-e398-6e56a94c51ba"
      },
      "source": [
        " padding = 15\n",
        "  img = cv2.copyMakeBorder(img, padding, padding, padding, padding, cv2.BORDER_CONSTANT)\n",
        "  tripple_cropped_imgs = []\n",
        "  # rr  = random.randint(0, 200)\n",
        "  img_new = img.copy()\n",
        "  test_img = img.copy()\n",
        "  rand_1 = (0,255,255)\n",
        "  rand_2 = (255,255,0)\n",
        "  rand_3 = (255,0,255)\n",
        "  color_arr = [rand_1,rand_2,rand_3]\n",
        "  # for box in pickle.loads(row['trible_box'],encoding=\"bytes\"): # deserializing object which we converted to binary format using myNumArray.dump() method\n",
        "  i = 0\n",
        "  for box in triple_box: # deserializing object which we converted to binary format using myNumArray.dump() method\n",
        "    h_min, w_min = box[0] #xmin, ymin\n",
        "    h_max, w_max = box[1] #xmax, ymax\n",
        "    # print('img shape {} & trible box {} '.format(img.shape,box))\n",
        "    # crop image according to box size and add to list\n",
        "    triple_box_cropped = cv2.resize(img_new[w_min+padding:w_max+padding, h_min+padding: h_max+padding], target_img_shape) # cropping image\n",
        "    imag = cv2.rectangle(test_img,(h_min+padding,w_min+padding),(h_max+padding, w_max+padding),color_arr[i],1)\n",
        "    # triple_box_cropped = triple_box_cropped # resize according to size we want\n",
        "    tripple_cropped_imgs.append(triple_box_cropped)\n",
        "    i += 1\n",
        "\n",
        "  for (x, y) in face_lm:\n",
        "    cv2.circle(imag, (x+padding, y+padding), 1, (0, 0, 255), -1)\n",
        "  \n",
        "  tripple_cropped_imgs[2] = imag\n",
        "  \n",
        "  # try equal gen box\n",
        "  triple_box = gen_equal_boundbox(face_box,percent_margin=gap_margin)\n",
        "  i = 0\n",
        "  img_new = img.copy()\n",
        "  test_img = img.copy()\n",
        "  for box in triple_box: # deserializing object which we converted to binary format using myNumArray.dump() method\n",
        "    h_min, w_min = box[0] #xmin, ymin\n",
        "    h_max, w_max = box[1] #xmax, ymax\n",
        "    # print('img shape {} & trible box {} '.format(img.shape,box))\n",
        "    # crop image according to box size and add to list\n",
        "    # triple_box_cropped = cv2.resize(img_new[w_min+padding:w_max+padding, h_min+padding: h_max+padding], target_img_shape) # cropping image\n",
        "    imag = cv2.rectangle(test_img,(h_min+padding,w_min+padding),(h_max+padding, w_max+padding),color_arr[i],1)\n",
        "    # triple_box_cropped = triple_box_cropped # resize according to size we want\n",
        "    # tripple_cropped_imgs.append(triple_box_cropped)\n",
        "    i += 1\n",
        "\n",
        "  for (x, y) in face_lm:\n",
        "    cv2.circle(imag, (x+padding, y+padding), 1, (0, 0, 255), -1)\n",
        "  \n",
        "  tripple_cropped_imgs[1] = imag"
      ],
      "execution_count": null,
      "outputs": [
        {
          "output_type": "error",
          "ename": "IndentationError",
          "evalue": "ignored",
          "traceback": [
            "\u001b[0;36m  File \u001b[0;32m\"<ipython-input-33-60a1f69951d0>\"\u001b[0;36m, line \u001b[0;32m2\u001b[0m\n\u001b[0;31m    padding = 10\u001b[0m\n\u001b[0m    ^\u001b[0m\n\u001b[0;31mIndentationError\u001b[0m\u001b[0;31m:\u001b[0m unexpected indent\n"
          ]
        }
      ]
    },
    {
      "cell_type": "markdown",
      "metadata": {
        "id": "W2vpu5ijT-09"
      },
      "source": [
        "# **Scatter plot for landmarks**"
      ]
    },
    {
      "cell_type": "code",
      "metadata": {
        "id": "HY4D0F_3GM4F"
      },
      "source": [
        "index += 3\n",
        "lmx = []\n",
        "lmy = []\n",
        "for p in pickle.loads(dataset_df[\"landmarks\"].iloc[index],encoding=\"bytes\"):\n",
        "  lmx.append(p[0])\n",
        "  lmy.append(p[1])\n",
        "plt.scatter(lmx,lmy)\n",
        "test_img_enc =np.frombuffer(dataset_df[\"image\"].iloc[index], np.uint8)\n",
        "test_img = cv2.cvtColor(cv2.imdecode(test_img_enc, cv2.IMREAD_COLOR),cv2.COLOR_BGR2RGB)\n",
        "# triple_box\n",
        "triple_box = pickle.loads(dataset_df[\"trible_box\"].iloc[index],encoding=\"bytes\")\n",
        "for bbox in triple_box:\n",
        "  bbox = bbox\n",
        "  h_min, w_min = bbox[0]\n",
        "  h_max, w_max = bbox[1]\n",
        "  cv2.rectangle(test_img, (h_min,w_min), (h_max,w_max),(255,0,0),1)\n",
        "plt.imshow(test_img)"
      ],
      "execution_count": null,
      "outputs": []
    },
    {
      "cell_type": "code",
      "metadata": {
        "id": "obvzLmKgUKOe"
      },
      "source": [
        "test_img_enc =np.frombuffer(dataset_df[\"image\"].iloc[index], np.uint8)\n",
        "test_img = cv2.cvtColor(cv2.imdecode(test_img_enc, cv2.IMREAD_COLOR),cv2.COLOR_BGR2RGB)"
      ],
      "execution_count": null,
      "outputs": []
    },
    {
      "cell_type": "code",
      "metadata": {
        "id": "TFzVtgQ2fIRP"
      },
      "source": [
        ""
      ],
      "execution_count": null,
      "outputs": []
    },
    {
      "cell_type": "markdown",
      "metadata": {
        "id": "QNgS5QfSDSD0"
      },
      "source": [
        "# **SSR-Preprocessing**"
      ]
    },
    {
      "cell_type": "markdown",
      "metadata": {
        "id": "WLxMbzhhabjC"
      },
      "source": [
        "\n",
        "\n",
        "> ## **`Test Faulty Images`**\n",
        "\n"
      ]
    },
    {
      "cell_type": "code",
      "metadata": {
        "colab": {
          "base_uri": "https://localhost:8080/",
          "height": 35
        },
        "id": "2GSs3j6hIOyM",
        "outputId": "1d902d97-1f56-482f-f5a8-b4270479e62b"
      },
      "source": [
        "import shutil\n",
        "#WIKI\n",
        "shutil.copy('/content/gdrive/My Drive/0dev_folder/Previous Datasets/wiki_crop.tar', '/content/')\n",
        "# IMDB\n",
        "# shutil.copy('/content/gdrive/My Drive/0dev_folder/Previous Datasets/imdb_crop.tar', '/content/')\n",
        "# morph\n",
        "# shutil.copy('/content/gdrive/My Drive/0dev_folder/Previous Datasets/Morph.tar', '/content/')"
      ],
      "execution_count": null,
      "outputs": [
        {
          "output_type": "execute_result",
          "data": {
            "application/vnd.google.colaboratory.intrinsic+json": {
              "type": "string"
            },
            "text/plain": [
              "'/content/wiki_crop.tar'"
            ]
          },
          "metadata": {
            "tags": []
          },
          "execution_count": 5
        }
      ]
    },
    {
      "cell_type": "code",
      "metadata": {
        "colab": {
          "base_uri": "https://localhost:8080/"
        },
        "id": "QQ9oJNe4KBek",
        "outputId": "ac4c1800-05d5-43da-ebf0-f1426dd37316"
      },
      "source": [
        "cd /content/"
      ],
      "execution_count": null,
      "outputs": [
        {
          "output_type": "stream",
          "text": [
            "/content\n"
          ],
          "name": "stdout"
        }
      ]
    },
    {
      "cell_type": "code",
      "metadata": {
        "id": "V57knmyIvI-Q"
      },
      "source": [
        "#extract datasets\n",
        "# !tar -xvf imdb_crop.tar -C /content/RP/dataset\n",
        "!tar -xvf wiki_crop.tar -C /content/RP/dataset\n",
        "# morph data\n",
        "# !tar -xvf Morph.tar -C /content/RP/dataset"
      ],
      "execution_count": null,
      "outputs": []
    },
    {
      "cell_type": "code",
      "metadata": {
        "id": "B9AvD8qtlfKV"
      },
      "source": [
        "# load all files from any folder of wiki\n",
        "all_files = os.listdir('/content/RP/dataset/wiki_crop/00')\n",
        "index = 1"
      ],
      "execution_count": null,
      "outputs": []
    },
    {
      "cell_type": "code",
      "metadata": {
        "id": "4UYGvjEpbDY2"
      },
      "source": [
        "!pip install mtcnn\n",
        "!pip install keras-facenet"
      ],
      "execution_count": null,
      "outputs": []
    },
    {
      "cell_type": "code",
      "metadata": {
        "id": "p7LbLb2tgFN1"
      },
      "source": [
        "from mtcnn import MTCNN\n",
        "from keras_facenet import FaceNet\n",
        "import time"
      ],
      "execution_count": null,
      "outputs": []
    },
    {
      "cell_type": "code",
      "metadata": {
        "id": "dM8__JrIeZgU"
      },
      "source": [
        "# detector1 = MTCNN()\n",
        "detector2 = dlib.cnn_face_detection_model_v1('/content/RP/detect/mmod_human_face_detector.dat')\n",
        "# detector3 = FaceNet()\n",
        "detector4 = dlib.get_frontal_face_detector()"
      ],
      "execution_count": null,
      "outputs": []
    },
    {
      "cell_type": "code",
      "metadata": {
        "id": "lhqKYkzEbIr4"
      },
      "source": [
        "# load image\n",
        "index = 1\n",
        "# file_path = '/content/RP/dataset/wiki_crop/00/'+all_files[index]\n",
        "test_img = cv2.imread('/content/DP.jpg')\n",
        "img = test_img.copy()\n",
        "# x1,y1,x2,y2 = detector2.detect_faces(img)[0]['box']\n",
        "# img = cv2.rectangle(img,(x1,y1),(x2+x1,y2+y1),(255,0,0),2)\n",
        "# plt.imshow(img)"
      ],
      "execution_count": null,
      "outputs": []
    },
    {
      "cell_type": "code",
      "metadata": {
        "id": "bI2U3uKmeDP3"
      },
      "source": [
        "#dlib face detection\n",
        "img = test_img.copy()\n",
        "# start_time = time.time()\n",
        "face_rect_list = detector2(img)\n",
        "x1,y1,x2,y2 = face_rect_list[0].rect.left() , face_rect_list[0].rect.top(), face_rect_list[0].rect.right(), face_rect_list[0].rect.bottom() # face_rect is dlib.rectangle object, so extracting values from it\n",
        "# print(\"--- %s seconds ---\" % (time.time() - start_time))\n",
        "img = cv2.rectangle(img,(x1,y1),(x2,y2),(255,0,0),2)\n",
        "plt.imshow(img)"
      ],
      "execution_count": null,
      "outputs": []
    },
    {
      "cell_type": "code",
      "metadata": {
        "id": "lVT-1cyZnzSu"
      },
      "source": [
        "#dlib face detection\n",
        "img = test_img.copy()\n",
        "# start_time = time.time()\n",
        "face_rect_list = detector4(img)\n",
        "x1,y1,x2,y2 = face_rect_list[0].left() , face_rect_list[0].top(), face_rect_list[0].right(), face_rect_list[0].bottom() # face_rect is dlib.rectangle object, so extracting values from it\n",
        "# print(\"--- %s seconds ---\" % (time.time() - start_time))\n",
        "img = cv2.rectangle(img,(x1,y1),(x2,y2),(255,0,0),2)\n",
        "plt.imshow(img)"
      ],
      "execution_count": null,
      "outputs": []
    },
    {
      "cell_type": "code",
      "metadata": {
        "id": "YSr_c3lbdM0U"
      },
      "source": [
        "#mtcnn face detection\n",
        "img = test_img.copy()\n",
        "start_time = time.time()\n",
        "x1,y1,x2,y2 = detector1.detect_faces(img)[0]['box']\n",
        "print(\"--- %s seconds ---\" % (time.time() - start_time))\n",
        "img = cv2.rectangle(img,(x1,y1),(x2+x1,y2+y1),(255,0,0),2)\n",
        "plt.imshow(img)\n",
        "print(img[y1:y1+y2,x1:x1+x2].shape, img[y1:y1+y2,x1:x1+x2].shape[0]/img[y1:y1+y2,x1:x1+x2].shape[1])"
      ],
      "execution_count": null,
      "outputs": []
    },
    {
      "cell_type": "code",
      "metadata": {
        "id": "hOPRF1Q-gPkE"
      },
      "source": [
        "#face_net face detection\n",
        "img = test_img.copy()\n",
        "start_time = time.time()\n",
        "x = detector3.extract(img, threshold=0.9)\n",
        "x1,y1,x2,y2 = x[0]['box']\n",
        "print(\"--- %s seconds ---\" % (time.time() - start_time))\n",
        "img = cv2.rectangle(img,(x1,y1),(x2+x1,y2+y1),(255,0,0),2)\n",
        "plt.imshow(img)\n",
        "print(img[y1:y1+y2,x1:x1+x2].shape, img[y1:y1+y2,x1:x1+x2].shape[0]/img[y1:y1+y2,x1:x1+x2].shape[1])"
      ],
      "execution_count": null,
      "outputs": []
    },
    {
      "cell_type": "code",
      "metadata": {
        "id": "H1IaN8gXsgIp"
      },
      "source": [
        "img = test_img.copy()\n",
        "predictor = dlib.shape_predictor(\"/content/RP/detect/shape_predictor_68_face_landmarks.dat\")\n",
        "# get pitch yaw role\n",
        "_,box,lmarks = detect_faces_and_landmarks(img,detector4)\n",
        "img = dlib.get_face_chips(img, lmarks, padding=0.8,size=350)[0]\n",
        "_,box,lmarks = detect_faces_and_landmarks(img,detector4)\n",
        "lm = [[point.x,point.y] for point in lmarks[0].parts()]\n",
        "triple_box = gen_triple_face_box(box,lm,percent_margin=30)\n",
        "\n",
        "# face_pitch, face_yaw, face_roll = get_rotation_angle(img, lmarks[0])\n",
        "# face_pitch, face_yaw, face_roll\n",
        "# triple_box = gen_box_PYR(box)\n",
        "plt.figure()\n",
        "plt.imshow(img)\n",
        "cv2.imwrite('/content/org.jpg',img)\n",
        "i = 0\n",
        "for bbox in triple_box:\n",
        "  bbox = bbox\n",
        "  h_min, w_min = bbox[0]\n",
        "  h_max, w_max = bbox[1]\n",
        "  img_3 = img[w_min:w_max, h_min: h_max].copy()\n",
        "\n",
        "  plt.figure()\n",
        "  cv2.imwrite(f'/content/test{i}.jpg',img_3)\n",
        "  i += 1\n",
        "  plt.imshow(img_3)\n",
        "  \n",
        "  # cv2.rectangle(img, (h_min,w_min), (h_max,w_max),(255,0,0),2)\n",
        "\n",
        "  # cv2.rectangle(img, (h_min,w_min), (h_max,w_max),(255,0,0),2)\n",
        "# plt.imshow(img)"
      ],
      "execution_count": null,
      "outputs": []
    },
    {
      "cell_type": "code",
      "metadata": {
        "id": "G-JsN-5PASZJ"
      },
      "source": [
        "\n",
        "def get_margin_right_left(landmarks,gap_margin):\n",
        "  # gap_margin *=2 # because will be calculated on 2 sides\n",
        "  # calculate percentange_of_right & percentange_of_left distance from total_distance\n",
        "  total_distance,nose_to_left = landmarks[16][0]-landmarks[0][0], landmarks[30][0] - landmarks[0][0]\n",
        "  percent_left = nose_to_left*100/total_distance\n",
        "  # calculate margin values for right & left side.\n",
        "  left_margin = round(gap_margin * percent_left/100)\n",
        "  #confirmation of left+right == total_margin\n",
        "  right_margin = gap_margin-left_margin\n",
        "  return right_margin,left_margin\n",
        "\n",
        "def get_margin_up_down_split(gap_margin,down_split=0.3):\n",
        "  # calculate margin values for up & down side.\n",
        "  down_margin = round(gap_margin * down_split)\n",
        "  #confirmation of left+right == total_margin\n",
        "  up_margin = gap_margin-down_margin\n",
        "  return up_margin,down_margin\n",
        "\n",
        "\n",
        "def evaluate_face_box(x1,y1,x2,y2,landmarks, force_align =False):\n",
        "  left_lm = landmarks[17][0] # left side of face\n",
        "  right_lm = landmarks[26][0] # right side of face\n",
        "  top_lm = landmarks[24][1] # top side of face\n",
        "  down_lm = landmarks[57][1] # bottom side of face\n",
        "  \n",
        "  \n",
        "  if (left_lm < x1) or (right_lm > x2) or force_align:\n",
        "    avg_offset_h = int (((x1 - left_lm) + (x2 - right_lm))/2)\n",
        "    x1 -= avg_offset_h\n",
        "    x2 -= avg_offset_h\n",
        "\n",
        "  if (top_lm < y1) or (down_lm > y2) or force_align:\n",
        "    avg_offset_v = int (((y1 - top_lm) + (y2 - down_lm))/2)\n",
        "    y1 -= avg_offset_v\n",
        "    y2 -= avg_offset_v\n",
        "\n",
        "  return x1,y1,x2,y2\n",
        "\n",
        "def gen_triple_face_box(box,landmarks,percent_margin=30):\n",
        "  xmin, ymin, xmax, ymax = box \n",
        "  h = xmax - xmin\n",
        "  #calculate gap value for bigger box\n",
        "  gap_margin = round(h * percent_margin/100)\n",
        "  \n",
        "  # inner-box\n",
        "  left_margin,right_margin = get_margin_right_left(landmarks,gap_margin)\n",
        "  # print(left_margin,right_margin)\n",
        "  if right_margin != 0:\n",
        "    if 0.66 < left_margin/right_margin < 1.55:\n",
        "      xmin, ymin, xmax, ymax = evaluate_face_box(xmin, ymin, xmax, ymax, landmarks,force_align=True) \n",
        "    else:\n",
        "      xmin, ymin, xmax, ymax = xmin+50, ymin+50, xmax-50, ymax-50\n",
        "    xmin, ymin, xmax, ymax = xmin+15, ymin+15, xmax-15, ymax-15\n",
        "  box_array = [[(xmin,ymin),(xmax,ymax)]]\n",
        "  \n",
        "  # middle box\n",
        "  left_margin,right_margin = get_margin_right_left(landmarks,gap_margin) # calculate gap_margin right and left\n",
        "  up_margin , down_margin  = get_margin_up_down_split(gap_margin)\n",
        "  new_X =  int(xmin - left_margin)\n",
        "  new_Y = int(ymin - up_margin)\n",
        "  new_X2 = int(xmax + right_margin)\n",
        "  new_Y2 = int(ymax + down_margin)\n",
        "  new_X,new_Y,new_X2,new_Y2 = evaluate_face_box(new_X,new_Y,new_X2,new_Y2,landmarks)\n",
        "  box_array.append([(new_X,new_Y),(new_X2,new_Y2)])\n",
        "  # outer box\n",
        "  gap_margin = gap_margin*2 # because 3rd box will be further outside\n",
        "  left_margin,right_margin = get_margin_right_left(landmarks,gap_margin) # calculate gap_margin right and left\n",
        "  up_margin , down_margin  = get_margin_up_down_split(gap_margin)\n",
        "  new_X = int(xmin - left_margin)\n",
        "  new_Y = int(ymin - up_margin)\n",
        "  new_X2 =int(xmax + right_margin)\n",
        "  new_Y2 =int(ymax + down_margin)\n",
        "  new_X,new_Y,new_X2,new_Y2 = evaluate_face_box(new_X,new_Y,new_X2,new_Y2,landmarks)\n",
        "  box_array.append([(new_X,new_Y),(new_X2,new_Y2)])\n",
        "  return np.array(box_array) "
      ],
      "execution_count": null,
      "outputs": []
    },
    {
      "cell_type": "code",
      "metadata": {
        "id": "wAhOu66ofme6"
      },
      "source": [
        "from m_preprocess_dataset.pose import get_rotation_angle\n",
        "def gen_box_PYR(box,gap_margin=20):\n",
        "  xmin, ymin, xmax, ymax = box \n",
        "  w, h = xmax - xmin, ymax - ymin\n",
        "\n",
        "  box_array = [[(xmin,ymin),(xmax,ymax)]] # inner-box\n",
        "\n",
        "  # middle box\n",
        "  margin = int(h * gap_margin/100) # 15% margin\n",
        "  new_X =  xmin - margin//2 \n",
        "  new_Y = ymin - margin\n",
        "  new_X2 = xmax + margin//2\n",
        "  new_Y2 = ymax + margin \n",
        "  box_array.append([(new_X,new_Y),(new_X2,new_Y2)])\n",
        "\n",
        "  # outer box\n",
        "  margin = int(margin*2) # 30% margin\n",
        "  new_X =  xmin - margin//2\n",
        "  new_Y = ymin - margin\n",
        "  new_X2 = xmax + margin//2 \n",
        "  new_Y2 = ymax + margin \n",
        "  box_array.append([(new_X,new_Y),(new_X2,new_Y2)])\n",
        "\n",
        "  return np.array(box_array) \n"
      ],
      "execution_count": null,
      "outputs": []
    },
    {
      "cell_type": "code",
      "metadata": {
        "id": "NfF3hybktkvk"
      },
      "source": [
        "def detect_faces_and_landmarks(image,detector):\n",
        "  face_rect_list = detector(image,1)\n",
        "  img_face_count = len(face_rect_list) # number of faces found in image\n",
        "  if img_face_count < 1:\n",
        "    # print('no faces detectedd,,   ',len(face_rect_list))\n",
        "    return 0,[],[] # no face found, so return \n",
        "\n",
        "  xmin, ymin, xmax, ymax = face_rect_list[0].left() , face_rect_list[0].top(), face_rect_list[0].right(), face_rect_list[0].bottom() # face_rect is dlib.rectangle object, so extracting values from it\n",
        "  predictor = dlib.shape_predictor(\"/content/RP/detect/shape_predictor_68_face_landmarks.dat\")\n",
        "  # make a landmarks_list of all faces detected in image\n",
        "  lmarks_list = dlib.full_object_detections()\n",
        "  for face_rect in face_rect_list:\n",
        "    lmarks_list.append(predictor(image, face_rect)) # getting landmarks as a list of objects\n",
        "  \n",
        "  return img_face_count,np.array([xmin, ymin, xmax, ymax]), lmarks_list"
      ],
      "execution_count": null,
      "outputs": []
    },
    {
      "cell_type": "code",
      "metadata": {
        "id": "KWL1gKoFWzcv"
      },
      "source": [
        "# create bounbox with his method - mtcnn\n",
        "img = test_img.copy()\n",
        "triple_box = gen_boundbox(x1,y1,x2+x1,y2+y1,x[0]['keypoints']['nose'])\n",
        "for bbox in triple_box:\n",
        "  bbox = bbox\n",
        "  h_min, w_min = bbox[0]\n",
        "  h_max, w_max = bbox[1]\n",
        "  cv2.rectangle(img, (h_min,w_min), (h_max,w_max),(255,0,0),2)\n",
        "plt.imshow(img)\n",
        "# create bounbox with own method - dlib\n",
        "\n",
        "# compare with screeenshots\n",
        "# see whose result is better (having more head in image)"
      ],
      "execution_count": null,
      "outputs": []
    },
    {
      "cell_type": "markdown",
      "metadata": {
        "id": "x7uRhLSGtBBd"
      },
      "source": [
        "> ## **`Backup`**"
      ]
    },
    {
      "cell_type": "code",
      "metadata": {
        "id": "d9Qt-jRyDLa2"
      },
      "source": [
        "# --------------------------- TEST SSR -----------------------\n",
        "\n",
        "def SE_BLOCK(input,using_SE=True,r_factor=2):\n",
        "  channels_count = input.get_shape()[-1]\n",
        "  act = GlobalAveragePooling2D()(input)\n",
        "  fc1 = Dense(channels_count//r_factor,activation='relu')(act)\n",
        "  scale = Dense(channels_count,activation='sigmoid')(fc1)\n",
        "  return multiply([scale,input])\n",
        "\n",
        "def CBRA(inputs):\n",
        "  x = Conv2D(32,(3,3))(inputs)\n",
        "  x = BatchNormalization(axis=-1)(x)\n",
        "  x = Activation('relu')(x)\n",
        "  x_layer = AveragePooling2D(2,2)(x)\n",
        "  return x_layer\n",
        "\n",
        "# stream 2 module\n",
        "def CBTM(inputs):\n",
        "  s = Conv2D(16,(3,3))(inputs)\n",
        "  s = BatchNormalization(axis=-1)(s)\n",
        "  s = Activation('tanh')(s)\n",
        "  s_layer = MaxPooling2D(2,2)(s)   \n",
        "  return s_layer\n",
        "\n",
        "\n",
        "def PB(inputs):\n",
        "  # s_layer2_mix = Flatten()(inputs)\n",
        "  s_layer2_mix = GlobalAveragePooling2D()(inputs)\n",
        "  s_layer2_mix = Dropout(0.1)(s_layer2_mix)\n",
        "  s_layer2_mix = Dense(16,activation='relu')(s_layer2_mix)\n",
        "  s_layer2_mix = Dense(3,activation='relu')(s_layer2_mix)\n",
        "  return s_layer2_mix\n",
        "\n",
        "\n",
        "\n",
        "def first_embd(x1,x2,isPB_Block=False):\n",
        "  x = CBRA(x1)\n",
        "  y = CBTM(x2)\n",
        "\n",
        "  if isPB_Block:\n",
        "    x = PB(x)\n",
        "    y = PB(y)\n",
        "    first_embd = Multiply()([x,y])\n",
        "    return first_embd\n",
        "  else:\n",
        "    return x,y\n",
        "\n",
        "\n",
        "def second_embd(x1,x2,isPB_Block=False):\n",
        "  x,y = first_embd(x1,x2,False)\n",
        "\n",
        "  x = CBRA(x)\n",
        "  y = CBTM(y)\n",
        "\n",
        "  if isPB_Block:\n",
        "    x = PB(x)\n",
        "    y = PB(y)\n",
        "    scnd_embd = Multiply()([x,y])\n",
        "    return scnd_embd\n",
        "  else:\n",
        "    return x,y\n",
        "\n",
        "\n",
        "def third_embd(x1,x2):\n",
        "  x,y = second_embd(x1,x2,False)\n",
        "\n",
        "  x = CBRA(x)\n",
        "  x = CBRA(x)\n",
        "  y = CBTM(y)\n",
        "  y = CBTM(y)\n",
        "\n",
        "  x = PB(x)\n",
        "  y = PB(y)\n",
        "  scnd_embd = Multiply()([x,y])\n",
        "  return scnd_embd\n",
        "\n",
        "\n",
        "\n",
        "\n",
        "def build_ssr(Categories=12, input_height=64, input_width=64, input_channels=3, using_white_norm=True, using_SE=True):\n",
        "\n",
        "  x1 = Input(shape=(input_height, input_width, input_channels))\n",
        "  x1 = Lambda(white_norm,name='white_norm')(x1)\n",
        "  x2 = Input(shape=(input_height, input_width, input_channels))\n",
        "  x2 = Lambda(white_norm,name='white_norm')(x2)\n",
        "  #--------- STREAM 1 ---------\n",
        "  frst_embd = first_embd(x1,x2,isPB_Block=True)\n",
        "  scnd_embd = second_embd(x1,x2,isPB_Block=True)\n",
        "  thrd_embd = third_embd(x1,x2)\n",
        "\n",
        "\n",
        "  cfeat = Concatenate(axis=-1)([frst_embd, scnd_embd,thrd_embd])\n",
        "  bulk_feat = Dense(Categories, use_bias=True, activity_regularizer=regularizers.l1(0), activation='softmax', name=\"W1\")(cfeat)\n",
        "  age = Dense(1, name=\"age\")(bulk_feat)\n",
        "\n",
        "  return Model(inputs=[x1, x2], outputs=[age, bulk_feat])\n",
        "\n"
      ],
      "execution_count": null,
      "outputs": []
    },
    {
      "cell_type": "code",
      "metadata": {
        "id": "Gj0n-LMDvoPF"
      },
      "source": [
        ""
      ],
      "execution_count": null,
      "outputs": []
    },
    {
      "cell_type": "code",
      "metadata": {
        "id": "8POGRc4PvoxJ"
      },
      "source": [
        "# I feel this one is better, Maybe because of multiple 16-16 Conv2D, I will try to add more smaller Conv2Ds"
      ],
      "execution_count": null,
      "outputs": []
    },
    {
      "cell_type": "code",
      "metadata": {
        "id": "FzS0RDSOvrPt"
      },
      "source": [
        "\n",
        "def SE_BLOCK(input,using_SE=True,r_factor=2):\n",
        "  channels_count = input.get_shape()[-1]\n",
        "  act = GlobalAveragePooling2D()(input)\n",
        "  fc1 = Dense(channels_count//r_factor,activation='relu')(act)\n",
        "  scale = Dense(channels_count,activation='sigmoid')(fc1)\n",
        "  return multiply([scale,input])\n",
        "\n",
        "def CBRA(inputs):\n",
        "  x = Conv2D(16,(3,3))(inputs)\n",
        "  x = BatchNormalization(axis=-1)(x)\n",
        "  x = Activation('relu')(x)\n",
        "  x = Conv2D(16,(3,3))(inputs)\n",
        "  x = BatchNormalization(axis=-1)(x)\n",
        "  x = Activation('relu')(x)\n",
        "  x_layer = AveragePooling2D(2,2)(x)\n",
        "  return x_layer\n",
        "\n",
        "# stream 2 module\n",
        "def CBTM(inputs):\n",
        "  s = Conv2D(16,(3,3))(inputs)\n",
        "  s = BatchNormalization(axis=-1)(s)\n",
        "  s = Activation('tanh')(s)\n",
        "  x = Conv2D(16,(3,3))(inputs)\n",
        "  x = BatchNormalization(axis=-1)(x)\n",
        "  x = Activation('tanh')(x)\n",
        "  s_layer = MaxPooling2D(2,2)(s)   \n",
        "  return s_layer\n",
        "\n",
        "\n",
        "def PB(inputs):\n",
        "  # s_layer2_mix = Flatten()(inputs)\n",
        "  s_layer2_mix = GlobalAveragePooling2D()(inputs)\n",
        "  s_layer2_mix = Dropout(0.1)(s_layer2_mix)\n",
        "  s_layer2_mix = Dense(16,activation='relu')(s_layer2_mix)\n",
        "  s_layer2_mix = Dense(3,activation='relu')(s_layer2_mix)\n",
        "  return s_layer2_mix\n",
        "\n",
        "\n",
        "\n",
        "def first_embd(x1,x2,isPB_Block=False):\n",
        "  x = CBRA(x1)\n",
        "  y = CBTM(x2)\n",
        "\n",
        "  if isPB_Block:\n",
        "    x = PB(x)\n",
        "    y = PB(y)\n",
        "    first_embd = Multiply()([x,y])\n",
        "    return first_embd\n",
        "  else:\n",
        "    return x,y\n",
        "\n",
        "\n",
        "def second_embd(x1,x2,isPB_Block=False):\n",
        "  x,y = first_embd(x1,x2,False)\n",
        "\n",
        "  x = CBRA(x)\n",
        "  y = CBTM(y)\n",
        "\n",
        "  if isPB_Block:\n",
        "    x = PB(x)\n",
        "    y = PB(y)\n",
        "    scnd_embd = Multiply()([x,y])\n",
        "    return scnd_embd\n",
        "  else:\n",
        "    return x,y\n",
        "\n",
        "\n",
        "def third_embd(x1,x2):\n",
        "  x,y = second_embd(x1,x2,False)\n",
        "\n",
        "  x = CBRA(x)\n",
        "  x = CBRA(x)\n",
        "  y = CBTM(y)\n",
        "  y = CBTM(y)\n",
        "\n",
        "  x = PB(x)\n",
        "  y = PB(y)\n",
        "  scnd_embd = Multiply()([x,y])\n",
        "  return scnd_embd\n",
        "\n",
        "# from IPython.core.debugger import set_trace\n",
        "from IPython.core.debugger import set_trace\n",
        "\n",
        "\n",
        "def build_ssr(Categories=12, input_height=64, input_width=64, input_channels=3, using_white_norm=True, using_SE=True):\n",
        "\n",
        "  x1 = Input(shape=(input_height, input_width, input_channels))\n",
        "  w1 = Lambda(white_norm,name='white_norm')(x1)\n",
        "  x2 = Input(shape=(input_height, input_width, input_channels))\n",
        "  w2 = Lambda(white_norm,name='white_norm_t')(x2)\n",
        "  #--------- STREAM 1 ---------\n",
        "  frst_embd = first_embd(x1,x2,isPB_Block=True)\n",
        "  scnd_embd = second_embd(x1,x2,isPB_Block=True)\n",
        "  thrd_embd = third_embd(x1,x2)\n",
        "\n",
        "\n",
        "  cfeat = Concatenate(axis=-1)([frst_embd, scnd_embd,thrd_embd])\n",
        "  bulk_feat = Dense(Categories, use_bias=True, activity_regularizer=regularizers.l1(0), activation='softmax', name=\"W1\")(cfeat)\n",
        "  age = Dense(1, name=\"age\")(bulk_feat)\n",
        "\n",
        "  return Model(inputs=[x1, x2], outputs=[age, bulk_feat])"
      ],
      "execution_count": null,
      "outputs": []
    },
    {
      "cell_type": "code",
      "metadata": {
        "id": "l-CkIZ1ELsi0"
      },
      "source": [
        "df_full = pd.read_csv('/content/Full_Dataset.csv')\n",
        "df_filter = pd.read_csv('/content/Filtered_Dataset.csv')\n",
        "n_df = df_full[df_full['gender'].isna()]"
      ],
      "execution_count": null,
      "outputs": []
    },
    {
      "cell_type": "code",
      "metadata": {
        "id": "uYG_-W0wM1sS"
      },
      "source": [
        "n_df.head()"
      ],
      "execution_count": null,
      "outputs": []
    },
    {
      "cell_type": "markdown",
      "metadata": {
        "id": "IJsY3kXmeZGE"
      },
      "source": [
        "> ## **`DisplayImages`**"
      ]
    },
    {
      "cell_type": "code",
      "metadata": {
        "id": "KG14MXXJNSCq"
      },
      "source": [
        "Accepted_List = []\n",
        "for index,row in n_df.iterrows():\n",
        "  pth = row['image_path']\n",
        "  age = row['age']\n",
        "  Accepted_List.append([pth,age])"
      ],
      "execution_count": null,
      "outputs": []
    },
    {
      "cell_type": "code",
      "metadata": {
        "id": "Hj5Wt6R3O3YE"
      },
      "source": [
        "Accepted_List[1][0]"
      ],
      "execution_count": null,
      "outputs": []
    },
    {
      "cell_type": "code",
      "metadata": {
        "id": "TOW4Qyt-mPgt"
      },
      "source": [
        "ySize = 5\n",
        "xSize = 5\n",
        "index = 30\n",
        "f,axarr = plt.subplots(xSize,ySize,figsize=(20,20))\n",
        "# f.suptitle(id, fontsize=100)\n",
        "for i in range(xSize):\n",
        "  for j in range(ySize):\n",
        "    img = cv2.imread(Accepted_List[index][0])\n",
        "    axarr[i,j].imshow(img)\n",
        "    axarr[i,j].set_title(str(Accepted_List[index][1]),fontsize = 20)\n",
        "    index += 1"
      ],
      "execution_count": null,
      "outputs": []
    },
    {
      "cell_type": "markdown",
      "metadata": {
        "id": "a-CBhEZPUgxh"
      },
      "source": [
        "\n",
        "\n",
        "> ## **`Custom Face_Align`**\n",
        "\n"
      ]
    },
    {
      "cell_type": "code",
      "metadata": {
        "id": "acV9XzfLbgTf"
      },
      "source": [
        "# dlib's face detecteto\n",
        "predictor_path = '/content/C3AE/detect/shape_predictor_5_face_landmarks.dat'\n",
        "face_file_path = '/content/Data Scientist.jpg'\n",
        "detector = dlib.cnn_face_detection_model_v1('/content/C3AE/detect/mmod_human_face_detector.dat')\n",
        "sp = dlib.shape_predictor(predictor_path)\n",
        "img = dlib.load_rgb_image(face_file_path)\n",
        "dets = detector(img, 1)"
      ],
      "execution_count": null,
      "outputs": []
    },
    {
      "cell_type": "code",
      "metadata": {
        "id": "xQDGDplSpDEh"
      },
      "source": [
        "# dlib lamrsk\n",
        "faces = dlib.full_object_detections()\n",
        "face = sp(img, dets[0].rect)\n",
        "dlib_lmark = face.parts()\n",
        "faces.append(face)"
      ],
      "execution_count": null,
      "outputs": []
    },
    {
      "cell_type": "code",
      "metadata": {
        "id": "Q30-tFyWv0LG"
      },
      "source": [
        "images = dlib.get_face_chips(img, faces)\n",
        "plt.imshow(images[0])"
      ],
      "execution_count": null,
      "outputs": []
    },
    {
      "cell_type": "code",
      "metadata": {
        "id": "bWjvqredVJ6k"
      },
      "source": [
        "!pip install mtcnn"
      ],
      "execution_count": null,
      "outputs": []
    },
    {
      "cell_type": "code",
      "metadata": {
        "id": "c0JhPldQbdnc"
      },
      "source": [
        "from mtcnn import MTCNN\n",
        "mtcnn_detector = MTCNN()\n",
        "from parts import parts"
      ],
      "execution_count": null,
      "outputs": []
    },
    {
      "cell_type": "code",
      "metadata": {
        "id": "VPLYNkQVops6"
      },
      "source": [
        "#mtcnn lamrks box\n",
        "detect_obj = mtcnn_detector.detect_faces(img)\n",
        "#conveting mtcnn face_rect to dlib rect\n",
        "p = detect_obj[0]['box']\n",
        "my_rect = dlib.rectangle(p[0],p[1],p[0]+p[2],p[1]+p[3])\n",
        "# dlib lamrsk with mtcnn box\n",
        "faces = dlib.full_object_detections()\n",
        "face = sp(img, my_rect)\n",
        "dlib_lmark = face.parts()\n",
        "faces.append(face)\n",
        "images = dlib.get_face_chips(img, faces)\n",
        "plt.imshow(images[0])"
      ],
      "execution_count": null,
      "outputs": []
    },
    {
      "cell_type": "code",
      "metadata": {
        "id": "aHjjqDKJzHwI"
      },
      "source": [
        "#converting mtcnn lmarks to dlib points\n",
        "pts = dlib.points(5)\n",
        "# face_keys = list(detect_obj[0]['keypoints'].keys())\n",
        "# i = 0\n",
        "pts[3] = dlib.point(detect_obj[0]['keypoints']['left_eye'])\n",
        "pts[0] = dlib.point(detect_obj[0]['keypoints']['right_eye'])\n",
        "pts[2] = dlib.point(detect_obj[0]['keypoints']['nose'])\n",
        "pts[4] = dlib.point(detect_obj[0]['keypoints']['mouth_left'])\n",
        "pts[1] = dlib.point(detect_obj[0]['keypoints']['mouth_right'])\n",
        "print(pts)\n",
        "print(keys_face)\n",
        "# while i < 5:\n",
        "#   pnt = detect_obj[0]['keypoints'][face_keys[i]]\n",
        "#   pts[i] = dlib.point(pnt) \n",
        "#   print(face_keys[i],pnt)\n",
        "#   i+= 1\n",
        "# for key in detect_obj[0]['keypoints']:\n",
        "# x = detect_obj[0]['keypoints'][key]"
      ],
      "execution_count": null,
      "outputs": []
    },
    {
      "cell_type": "code",
      "metadata": {
        "id": "3vCUr5OeuhM_"
      },
      "source": [
        "# mtcnn box+lmark, with dlib's get_chip\n",
        "face = dlib.full_object_detection(my_rect,pts)\n",
        "faces = dlib.full_object_detections()\n",
        "faces.append(face)\n",
        "images = dlib.get_face_chips(img, faces)\n",
        "plt.imshow(images[0])"
      ],
      "execution_count": null,
      "outputs": []
    },
    {
      "cell_type": "code",
      "metadata": {
        "id": "eU3qvAd60ug-"
      },
      "source": [
        "dlib_lmark,pts"
      ],
      "execution_count": null,
      "outputs": []
    },
    {
      "cell_type": "code",
      "metadata": {
        "id": "x8oizBckwuqO"
      },
      "source": [
        "#converting mtcnn lmarks to dlib points\n",
        "pts = dlib.points(5)\n",
        "i = 0\n",
        "while i < 5:\n",
        "  pts[i] = dlib.point(mtcnn_lm[i]) \n",
        "  i+= 1"
      ],
      "execution_count": null,
      "outputs": []
    },
    {
      "cell_type": "code",
      "metadata": {
        "id": "SFOVcVe71JKI"
      },
      "source": [
        "detect_obj[0]['keypoints']"
      ],
      "execution_count": null,
      "outputs": []
    },
    {
      "cell_type": "code",
      "metadata": {
        "id": "CUqcJjaazgFY"
      },
      "source": [
        "plt.imshow(img)"
      ],
      "execution_count": null,
      "outputs": []
    },
    {
      "cell_type": "code",
      "metadata": {
        "id": "8_5xaWkEUrl_"
      },
      "source": [
        "# mtcn_lmarks = detect_obj[0]['keypoints']\n",
        "# lmx = []\n",
        "# lmy = []\n",
        "# mtcnn_lm = []\n",
        "# for key in mtcn_lmarks:\n",
        "#   mtcnn_lm.append(mtcn_lmarks[key])\n",
        "#   lmx.append(mtcn_lmarks[key][0])\n",
        "#   lmy.append(mtcn_lmarks[key][1])\n",
        "# plt.imshow(img)\n",
        "# plt.scatter(lmx[:], lmy[:], s=10, marker='.', c='r')\n",
        "\n",
        "\n",
        "\n",
        "# lmarks = sp(img, dets[0].rect).parts()\n",
        "# lmx = []\n",
        "# lmy = []\n",
        "# for m in lmarks:\n",
        "#   lmx.append(m.x)\n",
        "#   lmy.append(m.y)\n",
        "# plt.imshow(img)\n",
        "# plt.scatter(lmx[:], lmy[:], s=10, marker='.', c='r')"
      ],
      "execution_count": null,
      "outputs": []
    },
    {
      "cell_type": "code",
      "metadata": {
        "id": "TcQiRDkquLMb"
      },
      "source": [
        "#-----------------------------\n",
        "\n",
        "\n",
        "\n",
        "def SE_BLOCK(input,using_SE=True,r_factor=2):\n",
        "  channels_count = input.get_shape()[-1]\n",
        "  act = GlobalAveragePooling2D()(input)\n",
        "  fc1 = Dense(channels_count//r_factor,activation='relu')(act)\n",
        "  scale = Dense(channels_count,activation='sigmoid')(fc1)\n",
        "  return multiply([scale,input])\n",
        "\n",
        "def CBRA(inputs):\n",
        "  x = Conv2D(16,(3,3))(inputs)\n",
        "  x = BatchNormalization(axis=-1)(x)\n",
        "  x = Activation('relu')(x)\n",
        "  x = Conv2D(16,(3,3))(x)\n",
        "  x = BatchNormalization(axis=-1)(x)\n",
        "  x = Activation('relu')(x)\n",
        "  x_layer = AveragePooling2D(2,2)(x)\n",
        "  return x_layer\n",
        "\n",
        "# stream 2 module\n",
        "def CBTM(inputs):\n",
        "  s = Conv2D(16,(3,3))(inputs)\n",
        "  s = BatchNormalization(axis=-1)(s)\n",
        "  s = LeakyReLU(alpha=0.1)(s)\n",
        "  s = Conv2D(16,(3,3))(s)\n",
        "  s = BatchNormalization(axis=-1)(s)\n",
        "  s = LeakyReLU(alpha=0.1)(s)\n",
        "  s_layer = MaxPooling2D(2,2)(s)   \n",
        "  return s_layer\n",
        "\n",
        "\n",
        "def PB(inputs):\n",
        "  # s_layer2_mix = Flatten()(inputs)\n",
        "  s_layer2_mix = GlobalAveragePooling2D()(inputs)\n",
        "  s_layer2_mix = Dropout(0.1)(s_layer2_mix)\n",
        "  s_layer2_mix = Dense(16,activation='relu')(s_layer2_mix)\n",
        "  s_layer2_mix = Dense(3,activation='relu')(s_layer2_mix)\n",
        "  return s_layer2_mix\n",
        "\n",
        "\n",
        "\n",
        "def first_embd(x1,isPB_Block=False):\n",
        "  x = CBRA(x1)\n",
        "  y = CBTM(x1)\n",
        "\n",
        "  if isPB_Block:\n",
        "    x = PB(x)\n",
        "    y = PB(y)\n",
        "    first_embd = Multiply()([x,y])\n",
        "    return first_embd\n",
        "  else:\n",
        "    return x,y\n",
        "\n",
        "\n",
        "def second_embd(x1,isPB_Block=False):\n",
        "  x,y = first_embd(x1,False)\n",
        "\n",
        "  x = CBRA(x)\n",
        "  y = CBTM(y)\n",
        "\n",
        "  if isPB_Block:\n",
        "    x = PB(x)\n",
        "    y = PB(y)\n",
        "    scnd_embd = Multiply()([x,y])\n",
        "    return scnd_embd\n",
        "  else:\n",
        "    return x,y\n",
        "\n",
        "\n",
        "def third_embd(x1):\n",
        "  x,y = second_embd(x1,False)\n",
        "\n",
        "  x = CBRA(x)\n",
        "  x = CBRA(x)\n",
        "  y = CBTM(y)\n",
        "  y = CBTM(y)\n",
        "\n",
        "  x = PB(x)\n",
        "  y = PB(y)\n",
        "  scnd_embd = Multiply()([x,y])\n",
        "  return scnd_embd\n",
        "\n",
        "# from IPython.core.debugger import set_trace\n",
        "from IPython.core.debugger import set_trace\n",
        "\n",
        "\n",
        "def build_ssr(Categories=12, input_height=64, input_width=64, input_channels=3, using_white_norm=True, using_SE=True):\n",
        "\n",
        "  input_X = Input(shape=(input_height, input_width, input_channels))\n",
        "\n",
        "\n",
        "  w1 = Lambda(white_norm,name='white_norm')(input_X)\n",
        "  #--------- STREAM 1 ---------\n",
        "  frst_embd = first_embd(w1,isPB_Block=True)\n",
        "  scnd_embd = second_embd(w1,isPB_Block=True)\n",
        "  thrd_embd = third_embd(w1)\n",
        "\n",
        "  # set_trace()\n",
        "  cfeat = Concatenate(axis=-1)([frst_embd, scnd_embd,thrd_embd])\n",
        "\n",
        "  return Model(inputs=[input_X], outputs=[cfeat])\n",
        "\n",
        "\n",
        "\n",
        "def build_model(Categories=12, input_height=64, input_width=64, input_channels=3, using_white_norm=True, using_SE=True):\n",
        "  \n",
        "  ssr_model = build_ssr(input_height=input_height,input_width=input_width,input_channels=input_channels, using_white_norm=using_white_norm, using_SE=using_SE)\n",
        "\n",
        "\n",
        "\n",
        "  x1 = Input(shape=(input_height, input_width, input_channels))\n",
        "  x2 = Input(shape=(input_height, input_width, input_channels))\n",
        "  x3 = Input(shape=(input_height, input_width, input_channels))\n",
        "\n",
        "  y1 = ssr_model(x1)\n",
        "  y2 = ssr_model(x2)\n",
        "  y3 = ssr_model(x3)\n",
        "\n",
        "  # set_trace()\n",
        "  \n",
        "  cfeat = Concatenate(axis=-1)([y1, y2,y3])\n",
        "  bulk_feat = Dense(Categories, use_bias=True, activity_regularizer=regularizers.l1(0), activation='softmax', name=\"W1\")(cfeat)\n",
        "  age = Dense(1, name=\"age\")(bulk_feat)\n",
        "  \n",
        "  return Model(inputs=[x1,x2,x3], outputs=[age, bulk_feat])\n",
        "\n",
        "\n"
      ],
      "execution_count": null,
      "outputs": []
    }
  ]
}